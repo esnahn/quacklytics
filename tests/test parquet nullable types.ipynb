{
 "cells": [
  {
   "cell_type": "code",
   "execution_count": 32,
   "id": "efb04c3f",
   "metadata": {},
   "outputs": [],
   "source": [
    "from pathlib import Path\n",
    "import duckdb\n",
    "import pandas as pd\n",
    "from tabulate import tabulate\n",
    "\n",
    "pd.options.display.unicode.east_asian_width = True\n",
    "\n",
    "path_parquet = Path(\"../data/processed/주건축물_표제부_기본개요_총괄표제부.parquet\")"
   ]
  },
  {
   "cell_type": "code",
   "execution_count": 33,
   "id": "6165261a",
   "metadata": {},
   "outputs": [],
   "source": [
    "con = duckdb.connect()\n",
    "rel = duckdb.read_parquet(str(path_parquet), connection=con)"
   ]
  },
  {
   "cell_type": "code",
   "execution_count": 34,
   "id": "5422b6a3",
   "metadata": {},
   "outputs": [
    {
     "data": {
      "text/plain": [
       "duckdb.duckdb.DuckDBPyRelation"
      ]
     },
     "execution_count": 34,
     "metadata": {},
     "output_type": "execute_result"
    }
   ],
   "source": [
    "type(rel)"
   ]
  },
  {
   "cell_type": "code",
   "execution_count": 35,
   "id": "397f96d1",
   "metadata": {},
   "outputs": [
    {
     "name": "stdout",
     "output_type": "stream",
     "text": [
      "┌──────────────────────────────┬─────────────┬─────────┬─────────┬─────────┬─────────┐\n",
      "│         column_name          │ column_type │  null   │   key   │ default │  extra  │\n",
      "│           varchar            │   varchar   │ varchar │ varchar │ varchar │ varchar │\n",
      "├──────────────────────────────┼─────────────┼─────────┼─────────┼─────────┼─────────┤\n",
      "│ 관리_건축물대장_PK           │ VARCHAR     │ YES     │ NULL    │ NULL    │ NULL    │\n",
      "│ 관리_상위_건축물대장_PK      │ VARCHAR     │ YES     │ NULL    │ NULL    │ NULL    │\n",
      "│ 단독                         │ BOOLEAN     │ YES     │ NULL    │ NULL    │ NULL    │\n",
      "│ 대지_위치                    │ VARCHAR     │ YES     │ NULL    │ NULL    │ NULL    │\n",
      "│ 시군구_코드                  │ VARCHAR     │ YES     │ NULL    │ NULL    │ NULL    │\n",
      "│ 법정동_코드                  │ VARCHAR     │ YES     │ NULL    │ NULL    │ NULL    │\n",
      "│ 주_용도_코드                 │ VARCHAR     │ YES     │ NULL    │ NULL    │ NULL    │\n",
      "│ 주_용도_코드_명              │ VARCHAR     │ YES     │ NULL    │ NULL    │ NULL    │\n",
      "│ 기타_용도                    │ VARCHAR     │ YES     │ NULL    │ NULL    │ NULL    │\n",
      "│ 대지_면적(㎡)                │ DOUBLE      │ YES     │ NULL    │ NULL    │ NULL    │\n",
      "│ 건축_면적(㎡)                │ DOUBLE      │ YES     │ NULL    │ NULL    │ NULL    │\n",
      "│ 건폐_율(%)                   │ DOUBLE      │ YES     │ NULL    │ NULL    │ NULL    │\n",
      "│ 연면적(㎡)                   │ DOUBLE      │ YES     │ NULL    │ NULL    │ NULL    │\n",
      "│ 용적_률_산정_연면적(㎡)      │ DOUBLE      │ YES     │ NULL    │ NULL    │ NULL    │\n",
      "│ 용적_률(%)                   │ DOUBLE      │ YES     │ NULL    │ NULL    │ NULL    │\n",
      "│ 높이(m)                      │ DOUBLE      │ YES     │ NULL    │ NULL    │ NULL    │\n",
      "│ 지상_층_수                   │ INTEGER     │ YES     │ NULL    │ NULL    │ NULL    │\n",
      "│ 지하_층_수                   │ INTEGER     │ YES     │ NULL    │ NULL    │ NULL    │\n",
      "│ 사용승인_일                  │ VARCHAR     │ YES     │ NULL    │ NULL    │ NULL    │\n",
      "│ 총괄_대지_면적(㎡)           │ DOUBLE      │ YES     │ NULL    │ NULL    │ NULL    │\n",
      "│ 총괄_건축_면적(㎡)           │ DOUBLE      │ YES     │ NULL    │ NULL    │ NULL    │\n",
      "│ 총괄_건폐_율(%)              │ DOUBLE      │ YES     │ NULL    │ NULL    │ NULL    │\n",
      "│ 총괄_연면적(㎡)              │ DOUBLE      │ YES     │ NULL    │ NULL    │ NULL    │\n",
      "│ 총괄_용적_률_산정_연면적(㎡) │ DOUBLE      │ YES     │ NULL    │ NULL    │ NULL    │\n",
      "│ 총괄_용적_률(%)              │ DOUBLE      │ YES     │ NULL    │ NULL    │ NULL    │\n",
      "│ 총괄_주_건축물_수            │ INTEGER     │ YES     │ NULL    │ NULL    │ NULL    │\n",
      "├──────────────────────────────┴─────────────┴─────────┴─────────┴─────────┴─────────┤\n",
      "│ 26 rows                                                                  6 columns │\n",
      "└────────────────────────────────────────────────────────────────────────────────────┘\n",
      "\n"
     ]
    }
   ],
   "source": [
    "con.sql(\"DESCRIBE rel\").show(max_rows=100)"
   ]
  },
  {
   "cell_type": "code",
   "execution_count": 36,
   "id": "1fdafabc",
   "metadata": {},
   "outputs": [],
   "source": [
    "df = pd.read_parquet(path_parquet)"
   ]
  },
  {
   "cell_type": "code",
   "execution_count": 37,
   "id": "f3e94324",
   "metadata": {},
   "outputs": [
    {
     "name": "stdout",
     "output_type": "stream",
     "text": [
      "<class 'pandas.core.frame.DataFrame'>\n",
      "RangeIndex: 7364967 entries, 0 to 7364966\n",
      "Data columns (total 26 columns):\n",
      " #   Column             Dtype  \n",
      "---  ------             -----  \n",
      " 0   관리_건축물대장_PK        object \n",
      " 1   관리_상위_건축물대장_PK     object \n",
      " 2   단독                 bool   \n",
      " 3   대지_위치              object \n",
      " 4   시군구_코드             object \n",
      " 5   법정동_코드             object \n",
      " 6   주_용도_코드            object \n",
      " 7   주_용도_코드_명          object \n",
      " 8   기타_용도              object \n",
      " 9   대지_면적(㎡)           float64\n",
      " 10  건축_면적(㎡)           float64\n",
      " 11  건폐_율(%)            float64\n",
      " 12  연면적(㎡)             float64\n",
      " 13  용적_률_산정_연면적(㎡)     float64\n",
      " 14  용적_률(%)            float64\n",
      " 15  높이(m)              float64\n",
      " 16  지상_층_수             int32  \n",
      " 17  지하_층_수             int32  \n",
      " 18  사용승인_일             object \n",
      " 19  총괄_대지_면적(㎡)        float64\n",
      " 20  총괄_건축_면적(㎡)        float64\n",
      " 21  총괄_건폐_율(%)         float64\n",
      " 22  총괄_연면적(㎡)          float64\n",
      " 23  총괄_용적_률_산정_연면적(㎡)  float64\n",
      " 24  총괄_용적_률(%)         float64\n",
      " 25  총괄_주_건축물_수         float64\n",
      "dtypes: bool(1), float64(14), int32(2), object(9)\n",
      "memory usage: 1.3+ GB\n"
     ]
    }
   ],
   "source": [
    "df.info()"
   ]
  },
  {
   "cell_type": "markdown",
   "id": "da8767c8",
   "metadata": {},
   "source": [
    "nullable integer → float64로 변환됨."
   ]
  },
  {
   "cell_type": "code",
   "execution_count": 38,
   "id": "6fb0a9fa",
   "metadata": {},
   "outputs": [
    {
     "data": {
      "text/html": [
       "<div>\n",
       "<style scoped>\n",
       "    .dataframe tbody tr th:only-of-type {\n",
       "        vertical-align: middle;\n",
       "    }\n",
       "\n",
       "    .dataframe tbody tr th {\n",
       "        vertical-align: top;\n",
       "    }\n",
       "\n",
       "    .dataframe thead th {\n",
       "        text-align: right;\n",
       "    }\n",
       "</style>\n",
       "<table border=\"1\" class=\"dataframe\">\n",
       "  <thead>\n",
       "    <tr style=\"text-align: right;\">\n",
       "      <th></th>\n",
       "      <th>관리_건축물대장_PK</th>\n",
       "      <th>관리_상위_건축물대장_PK</th>\n",
       "      <th>단독</th>\n",
       "      <th>대지_위치</th>\n",
       "      <th>시군구_코드</th>\n",
       "      <th>법정동_코드</th>\n",
       "      <th>주_용도_코드</th>\n",
       "      <th>주_용도_코드_명</th>\n",
       "      <th>기타_용도</th>\n",
       "      <th>대지_면적(㎡)</th>\n",
       "      <th>...</th>\n",
       "      <th>지상_층_수</th>\n",
       "      <th>지하_층_수</th>\n",
       "      <th>사용승인_일</th>\n",
       "      <th>총괄_대지_면적(㎡)</th>\n",
       "      <th>총괄_건축_면적(㎡)</th>\n",
       "      <th>총괄_건폐_율(%)</th>\n",
       "      <th>총괄_연면적(㎡)</th>\n",
       "      <th>총괄_용적_률_산정_연면적(㎡)</th>\n",
       "      <th>총괄_용적_률(%)</th>\n",
       "      <th>총괄_주_건축물_수</th>\n",
       "    </tr>\n",
       "  </thead>\n",
       "  <tbody>\n",
       "    <tr>\n",
       "      <th>0</th>\n",
       "      <td>1024122357</td>\n",
       "      <td>10241394</td>\n",
       "      <td>False</td>\n",
       "      <td>서울특별시 강남구 삼성동 159번지</td>\n",
       "      <td>11680</td>\n",
       "      <td>10500</td>\n",
       "      <td>14000</td>\n",
       "      <td>업무시설</td>\n",
       "      <td>업무시설, 근린생활시설</td>\n",
       "      <td>NaN</td>\n",
       "      <td>...</td>\n",
       "      <td>54</td>\n",
       "      <td>2</td>\n",
       "      <td>19891103</td>\n",
       "      <td>148784.0</td>\n",
       "      <td>88331.32</td>\n",
       "      <td>59.37</td>\n",
       "      <td>973087.39</td>\n",
       "      <td>531729.32</td>\n",
       "      <td>357.38</td>\n",
       "      <td>9.0</td>\n",
       "    </tr>\n",
       "    <tr>\n",
       "      <th>1</th>\n",
       "      <td>1024123581</td>\n",
       "      <td>10241100252352</td>\n",
       "      <td>False</td>\n",
       "      <td>서울특별시 강남구 논현동 140-25번지</td>\n",
       "      <td>11680</td>\n",
       "      <td>10800</td>\n",
       "      <td>01000</td>\n",
       "      <td>단독주택</td>\n",
       "      <td>주거시설</td>\n",
       "      <td>NaN</td>\n",
       "      <td>...</td>\n",
       "      <td>3</td>\n",
       "      <td>1</td>\n",
       "      <td>19960115</td>\n",
       "      <td>244.2</td>\n",
       "      <td>145.86</td>\n",
       "      <td>59.73</td>\n",
       "      <td>549.11</td>\n",
       "      <td>407.89</td>\n",
       "      <td>167.03</td>\n",
       "      <td>2.0</td>\n",
       "    </tr>\n",
       "    <tr>\n",
       "      <th>2</th>\n",
       "      <td>1024124216</td>\n",
       "      <td>10241100276014</td>\n",
       "      <td>False</td>\n",
       "      <td>서울특별시 강남구 논현동 121번지</td>\n",
       "      <td>11680</td>\n",
       "      <td>10800</td>\n",
       "      <td>14000</td>\n",
       "      <td>업무시설</td>\n",
       "      <td>업무시설, 판매시설</td>\n",
       "      <td>NaN</td>\n",
       "      <td>...</td>\n",
       "      <td>3</td>\n",
       "      <td>1</td>\n",
       "      <td>19740920</td>\n",
       "      <td>2074.5</td>\n",
       "      <td>1023.54</td>\n",
       "      <td>49.34</td>\n",
       "      <td>4043.24</td>\n",
       "      <td>3159.09</td>\n",
       "      <td>152.28</td>\n",
       "      <td>2.0</td>\n",
       "    </tr>\n",
       "    <tr>\n",
       "      <th>3</th>\n",
       "      <td>10241100181447</td>\n",
       "      <td>10241100198307</td>\n",
       "      <td>False</td>\n",
       "      <td>서울특별시 강남구 대치동 500번지</td>\n",
       "      <td>11680</td>\n",
       "      <td>10600</td>\n",
       "      <td>07000</td>\n",
       "      <td>판매시설</td>\n",
       "      <td>판매시설</td>\n",
       "      <td>NaN</td>\n",
       "      <td>...</td>\n",
       "      <td>3</td>\n",
       "      <td>1</td>\n",
       "      <td>19841215</td>\n",
       "      <td>NaN</td>\n",
       "      <td>NaN</td>\n",
       "      <td>NaN</td>\n",
       "      <td>72027.55</td>\n",
       "      <td>NaN</td>\n",
       "      <td>NaN</td>\n",
       "      <td>6.0</td>\n",
       "    </tr>\n",
       "    <tr>\n",
       "      <th>4</th>\n",
       "      <td>10241100181572</td>\n",
       "      <td>10241100198307</td>\n",
       "      <td>False</td>\n",
       "      <td>서울특별시 강남구 대치동 500번지</td>\n",
       "      <td>11680</td>\n",
       "      <td>10600</td>\n",
       "      <td>02000</td>\n",
       "      <td>공동주택</td>\n",
       "      <td>주거시설</td>\n",
       "      <td>NaN</td>\n",
       "      <td>...</td>\n",
       "      <td>15</td>\n",
       "      <td>1</td>\n",
       "      <td>19841215</td>\n",
       "      <td>NaN</td>\n",
       "      <td>NaN</td>\n",
       "      <td>NaN</td>\n",
       "      <td>72027.55</td>\n",
       "      <td>NaN</td>\n",
       "      <td>NaN</td>\n",
       "      <td>6.0</td>\n",
       "    </tr>\n",
       "  </tbody>\n",
       "</table>\n",
       "<p>5 rows × 26 columns</p>\n",
       "</div>"
      ],
      "text/plain": [
       "  관리_건축물대장_PK 관리_상위_건축물대장_PK   단독  \\\n",
       "0         1024122357                10241394  False   \n",
       "1         1024123581          10241100252352  False   \n",
       "2         1024124216          10241100276014  False   \n",
       "3     10241100181447          10241100198307  False   \n",
       "4     10241100181572          10241100198307  False   \n",
       "\n",
       "                             대지_위치 시군구_코드 법정동_코드 주_용도_코드  \\\n",
       "0     서울특별시 강남구 삼성동 159번지       11680       10500        14000   \n",
       "1  서울특별시 강남구 논현동 140-25번지       11680       10800        01000   \n",
       "2     서울특별시 강남구 논현동 121번지       11680       10800        14000   \n",
       "3     서울특별시 강남구 대치동 500번지       11680       10600        07000   \n",
       "4     서울특별시 강남구 대치동 500번지       11680       10600        02000   \n",
       "\n",
       "  주_용도_코드_명               기타_용도  대지_면적(㎡)  ...  지상_층_수  \\\n",
       "0        업무시설  업무시설, 근린생활시설            NaN  ...          54   \n",
       "1        단독주택                주거시설            NaN  ...           3   \n",
       "2        업무시설      업무시설, 판매시설            NaN  ...           3   \n",
       "3        판매시설                판매시설            NaN  ...           3   \n",
       "4        공동주택                주거시설            NaN  ...          15   \n",
       "\n",
       "   지하_층_수  사용승인_일  총괄_대지_면적(㎡)  총괄_건축_면적(㎡)  \\\n",
       "0           2     19891103            148784.0            88331.32   \n",
       "1           1     19960115               244.2              145.86   \n",
       "2           1     19740920              2074.5             1023.54   \n",
       "3           1     19841215                 NaN                 NaN   \n",
       "4           1     19841215                 NaN                 NaN   \n",
       "\n",
       "   총괄_건폐_율(%)  총괄_연면적(㎡)  총괄_용적_률_산정_연면적(㎡)  \\\n",
       "0            59.37        973087.39                     531729.32   \n",
       "1            59.73           549.11                        407.89   \n",
       "2            49.34          4043.24                       3159.09   \n",
       "3              NaN         72027.55                           NaN   \n",
       "4              NaN         72027.55                           NaN   \n",
       "\n",
       "  총괄_용적_률(%)  총괄_주_건축물_수  \n",
       "0          357.38                9.0  \n",
       "1          167.03                2.0  \n",
       "2          152.28                2.0  \n",
       "3             NaN                6.0  \n",
       "4             NaN                6.0  \n",
       "\n",
       "[5 rows x 26 columns]"
      ]
     },
     "execution_count": 38,
     "metadata": {},
     "output_type": "execute_result"
    }
   ],
   "source": [
    "df.head()"
   ]
  },
  {
   "cell_type": "code",
   "execution_count": null,
   "id": "2568867c",
   "metadata": {},
   "outputs": [
    {
     "data": {
      "text/plain": [
       "신규02\n",
       "False    5134625\n",
       "True       63313\n",
       "Name: count, dtype: int64"
      ]
     },
     "execution_count": 4,
     "metadata": {},
     "output_type": "execute_result"
    }
   ],
   "source": [
    "import pandas as pd\n",
    "\n",
    "df = pd.read_parquet(\"../data/processed/주건축물_검증규칙.parquet\")\n",
    "df.신규02.value_counts()"
   ]
  },
  {
   "cell_type": "markdown",
   "id": "7196d246",
   "metadata": {},
   "source": [
    "Boolean 의 null(None)은 잘 보존되고, value_counts() 에서는 모수에서 빠짐.\n",
    "\n",
    "dropna=False 필요"
   ]
  },
  {
   "cell_type": "code",
   "execution_count": 7,
   "id": "7b60fd5e",
   "metadata": {},
   "outputs": [
    {
     "data": {
      "text/plain": [
       "신규02\n",
       "False    5134625\n",
       "None     2167029\n",
       "True       63313\n",
       "Name: count, dtype: int64"
      ]
     },
     "execution_count": 7,
     "metadata": {},
     "output_type": "execute_result"
    }
   ],
   "source": [
    "df.신규02.value_counts(dropna=False)"
   ]
  },
  {
   "cell_type": "code",
   "execution_count": 8,
   "id": "4d0a6c9f",
   "metadata": {},
   "outputs": [
    {
     "data": {
      "text/plain": [
       "신규02\n",
       "False    0.697169\n",
       "None     0.294235\n",
       "True     0.008597\n",
       "Name: proportion, dtype: float64"
      ]
     },
     "execution_count": 8,
     "metadata": {},
     "output_type": "execute_result"
    }
   ],
   "source": [
    "df.신규02.value_counts(dropna=False, normalize=True)"
   ]
  },
  {
   "cell_type": "code",
   "execution_count": null,
   "id": "e08c4725",
   "metadata": {},
   "outputs": [],
   "source": []
  }
 ],
 "metadata": {
  "kernelspec": {
   "display_name": ".venv",
   "language": "python",
   "name": "python3"
  },
  "language_info": {
   "codemirror_mode": {
    "name": "ipython",
    "version": 3
   },
   "file_extension": ".py",
   "mimetype": "text/x-python",
   "name": "python",
   "nbconvert_exporter": "python",
   "pygments_lexer": "ipython3",
   "version": "3.13.3"
  }
 },
 "nbformat": 4,
 "nbformat_minor": 5
}
