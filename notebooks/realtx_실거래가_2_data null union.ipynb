{
 "cells": [
  {
   "cell_type": "code",
   "execution_count": 7,
   "id": "e9336ab2",
   "metadata": {},
   "outputs": [
    {
     "data": {
      "text/plain": [
       "{'apart': 'C:\\\\Users\\\\USER\\\\Documents\\\\quacklytics\\\\data\\\\실거래가\\\\apart_sale_all.csv',\n",
       " 'commercial': 'C:\\\\Users\\\\USER\\\\Documents\\\\quacklytics\\\\data\\\\실거래가\\\\commercial_sale_all.csv',\n",
       " 'detached': 'C:\\\\Users\\\\USER\\\\Documents\\\\quacklytics\\\\data\\\\실거래가\\\\detached_sale_all.csv',\n",
       " 'factory': 'C:\\\\Users\\\\USER\\\\Documents\\\\quacklytics\\\\data\\\\실거래가\\\\factory_sale_all.csv',\n",
       " 'land': 'C:\\\\Users\\\\USER\\\\Documents\\\\quacklytics\\\\data\\\\실거래가\\\\land_sale_all.csv',\n",
       " 'multifamily': 'C:\\\\Users\\\\USER\\\\Documents\\\\quacklytics\\\\data\\\\실거래가\\\\multifamily_sale_all.csv',\n",
       " 'officetel': 'C:\\\\Users\\\\USER\\\\Documents\\\\quacklytics\\\\data\\\\실거래가\\\\officetel_sale_all.csv',\n",
       " 'presale': 'C:\\\\Users\\\\USER\\\\Documents\\\\quacklytics\\\\data\\\\실거래가\\\\presale_sale_all.csv'}"
      ]
     },
     "execution_count": 7,
     "metadata": {},
     "output_type": "execute_result"
    }
   ],
   "source": [
    "import glob\n",
    "from pathlib import Path, PurePath\n",
    "import pandas as pd\n",
    "import duckdb\n",
    "\n",
    "# Get all sale files in the specified directory\n",
    "sale_files = glob.glob(str(Path().resolve().parent / \"data/실거래가/*sale*.csv\"))\n",
    "\n",
    "# make dictionary of sale files from the list, with the first part of the filename as the key\n",
    "sale_files = {PurePath(file).stem.split(\"_\")[0]: file for file in sale_files}\n",
    "sale_files"
   ]
  },
  {
   "cell_type": "code",
   "execution_count": 8,
   "id": "5bffa03e",
   "metadata": {},
   "outputs": [
    {
     "data": {
      "text/plain": [
       "OrderedDict([('단독/다가구', 'detached'),\n",
       "             ('오피스텔', 'officetel'),\n",
       "             ('연립/다세대', 'multifamily'),\n",
       "             ('아파트', 'apart'),\n",
       "             ('상업/업무용', 'commercial'),\n",
       "             ('공장/창고 등', 'factory')])"
      ]
     },
     "execution_count": 8,
     "metadata": {},
     "output_type": "execute_result"
    }
   ],
   "source": [
    "from collections import OrderedDict\n",
    "\n",
    "korean_keys = OrderedDict(\n",
    "    [\n",
    "        (\"단독/다가구\", \"detached\"),\n",
    "        (\"오피스텔\", \"officetel\"),\n",
    "        (\"연립/다세대\", \"multifamily\"),\n",
    "        (\"아파트\", \"apart\"),\n",
    "        # (\"분양/입주권\", \"presale\"),\n",
    "        (\"상업/업무용\", \"commercial\"),\n",
    "        # (\"토지\", \"land\"),\n",
    "        (\"공장/창고 등\", \"factory\"),\n",
    "    ]\n",
    ")\n",
    "korean_keys"
   ]
  },
  {
   "cell_type": "code",
   "execution_count": 9,
   "id": "e837ec39",
   "metadata": {},
   "outputs": [
    {
     "data": {
      "text/plain": [
       "<duckdb.duckdb.DuckDBPyConnection at 0x296eea284f0>"
      ]
     },
     "execution_count": 9,
     "metadata": {},
     "output_type": "execute_result"
    }
   ],
   "source": [
    "con = duckdb.connect()\n",
    "\n",
    "con.execute(\"\"\"\n",
    "            INSTALL excel;\n",
    "            LOAD excel;\n",
    "            \"\"\")"
   ]
  },
  {
   "cell_type": "markdown",
   "id": "524dc1c5",
   "metadata": {},
   "source": [
    "| type         | 시군구 | 유형 | 주택유형 | 번지 | 본번 | 부번 | 도로명 | 단지/건물명 | 용도지역 | 건축물주용도 | 도로조건 | 전용/연면적(㎡) | 대지면적(㎡)   | 계약년월 | 계약일 | 거래금액(만원) | 동  | 층  | 매수자 | 매도자 | 지분구분 | 건축년도 | 해제사유발생일 | 거래유형 | 중개사소재지 | 등기일자 |\n",
    "| ------------ | ------ | ---- | -------- | ---- | ---- | ---- | ------ | ----------- | -------- | ------------ | -------- | --------------- | -------------- | -------- | ------ | -------------- | --- | --- | ------ | ------ | -------- | -------- | -------------- | -------- | ------------ | -------- |\n",
    "| 단독/다가구  | 시군구 |      | 주택유형 | 번지 |      |      | 도로명 |             |          |              | 도로조건 | 연면적(㎡)      | 대지면적(㎡)   | 계약년월 | 계약일 | 거래금액(만원) |     |     | 매수   | 매도   |          | 건축년도 | 해제사유발생일 | 거래유형 | 중개사소재지 |          |\n",
    "| 오피스텔     | 시군구 |      |          | 번지 | 본번 | 부번 | 도로명 | 단지명      |          |              |          | 전용면적(㎡)    |                | 계약년월 | 계약일 | 거래금액(만원) |     | 층  | 매수   | 매도   |          | 건축년도 | 해제사유발생일 | 거래유형 | 중개사소재지 |          |\n",
    "| 연립/다세대  | 시군구 |      |          | 번지 | 본번 | 부번 | 도로명 | 건물명      |          |              |          | 전용면적(㎡)    | 대지권면적(㎡) | 계약년월 | 계약일 | 거래금액(만원) |     | 층  | 매수자 | 매도자 |          | 건축년도 | 해제사유발생일 | 거래유형 | 중개사소재지 | 등기일자 |\n",
    "| 아파트       | 시군구 |      |          | 번지 | 본번 | 부번 | 도로명 | 단지명      |          |              |          | 전용면적(㎡)    |                | 계약년월 | 계약일 | 거래금액(만원) | 동  | 층  | 매수자 | 매도자 |          | 건축년도 | 해제사유발생일 | 거래유형 | 중개사소재지 | 등기일자 |\n",
    "| 상업/업무용  | 시군구 | 유형 |          | 지번 |      |      | 도로명 |             | 용도지역 | 건축물주용도 | 도로조건 | 전용/연면적(㎡) | 대지면적(㎡)   | 계약년월 | 계약일 | 거래금액(만원) |     | 층  | 매수   | 매도   | 지분구분 | 건축년도 | 해제사유발생일 | 거래유형 | 중개사소재지 |          |\n",
    "| 공장/창고 등 | 시군구 | 유형 |          | 지번 |      |      | 도로명 |             | 용도지역 | 건축물주용도 | 도로조건 | 전용/연면적(㎡) | 대지면적(㎡)   | 계약년월 | 계약일 | 거래금액(만원) |     | 층  | 매수   | 매도   | 지분구분 | 건축년도 | 해제사유발생일 | 거래유형 | 중개사소재지 |          |\n"
   ]
  },
  {
   "cell_type": "code",
   "execution_count": null,
   "id": "a6c921da",
   "metadata": {},
   "outputs": [
    {
     "data": {
      "text/plain": [
       "'\\nNO,\\ntype,\\n시군구,\\n유형,\\n주택유형,\\n번지,\\n본번,\\n부번,\\n도로명,\\n\"단지/건물명\",\\n용도지역,\\n건축물주용도,\\n도로조건,\\n\"전용/연면적(㎡)\",\\n\"대지면적(㎡)\",\\n계약년월,\\n계약일,\\n\"거래금액(만원)\",\\n동,\\n층,\\n매수자,\\n매도자,\\n계약년월,\\n계약일,\\n지분구분,\\n건축년도,\\n해제사유발생일,\\n거래유형,\\n중개사소재지,\\n등기일자,\\n'"
      ]
     },
     "execution_count": 10,
     "metadata": {},
     "output_type": "execute_result"
    }
   ],
   "source": [
    "\"\"\"\n",
    "NO,\n",
    "type,\n",
    "시군구,\n",
    "유형,\n",
    "주택유형,\n",
    "번지,\n",
    "본번,\n",
    "부번,\n",
    "도로명,\n",
    "\"단지/건물명\",\n",
    "용도지역,\n",
    "건축물주용도,\n",
    "도로조건,\n",
    "\"전용/연면적(㎡)\",\n",
    "\"대지면적(㎡)\",\n",
    "계약년월,\n",
    "계약일,\n",
    "\"거래금액(만원)\",\n",
    "동,\n",
    "층,\n",
    "매수자,\n",
    "매도자,\n",
    "지분구분,\n",
    "건축년도,\n",
    "해제사유발생일,\n",
    "거래유형,\n",
    "중개사소재지,\n",
    "등기일자,\n",
    "\"\"\"\n"
   ]
  },
  {
   "cell_type": "code",
   "execution_count": 28,
   "id": "caf04f0d",
   "metadata": {},
   "outputs": [
    {
     "data": {
      "text/plain": [
       "┌─────────────────┬─────────────┬───────────────────────────────────────────┬─────────┬──────────┬─────────┬─────────┬─────────┬──────────────────┬─────────────┬──────────┬──────────────┬──────────┬─────────────────┬──────────────┬──────────┬─────────┬────────────────┬─────────┬─────────┬─────────┬─────────┬──────────┬──────────┬────────────────┬──────────┬──────────────┬──────────┐\n",
       "│       NO        │    type     │                  시군구                   │  유형   │ 주택유형 │  번지   │  본번   │  부번   │      도로명      │ 단지/건물명 │ 용도지역 │ 건축물주용도 │ 도로조건 │ 전용/연면적(㎡) │ 대지면적(㎡) │ 계약년월 │ 계약일  │ 거래금액(만원) │   동    │   층    │ 매수자  │ 매도자  │ 지분구분 │ 건축년도 │ 해제사유발생일 │ 거래유형 │ 중개사소재지 │ 등기일자 │\n",
       "│     varchar     │   varchar   │                  varchar                  │ varchar │ varchar  │ varchar │ varchar │ varchar │     varchar      │   varchar   │ varchar  │   varchar    │ varchar  │     varchar     │   varchar    │ varchar  │ varchar │    varchar     │ varchar │ varchar │ varchar │ varchar │ varchar  │ varchar  │    varchar     │ varchar  │   varchar    │ varchar  │\n",
       "├─────────────────┼─────────────┼───────────────────────────────────────────┼─────────┼──────────┼─────────┼─────────┼─────────┼──────────────────┼─────────────┼──────────┼──────────────┼──────────┼─────────────────┼──────────────┼──────────┼─────────┼────────────────┼─────────┼─────────┼─────────┼─────────┼──────────┼──────────┼────────────────┼──────────┼──────────────┼──────────┤\n",
       "│ 단독/다가구1    │ 단독/다가구 │ 강원특별자치도 춘천시 서면 현암리         │ NULL    │ 단독     │ 4**     │ NULL    │ NULL    │ 유천길           │ NULL        │ NULL     │ NULL         │ 8m미만   │ 38.25           │ 108.00       │ 202001   │ 31      │ 6,700          │ NULL    │ NULL    │ NULL    │ NULL    │ NULL     │ 2013     │ NULL           │ NULL     │ NULL         │ NULL     │\n",
       "│ 단독/다가구2    │ 단독/다가구 │ 충청남도 아산시 신창면 오목리             │ NULL    │ 단독     │ *       │ NULL    │ NULL    │ 서부북로         │ NULL        │ NULL     │ NULL         │ 12m미만  │ 290.89          │ 843.00       │ 202001   │ 31      │ 16,735         │ NULL    │ NULL    │ NULL    │ NULL    │ NULL     │ 1934     │ NULL           │ NULL     │ NULL         │ NULL     │\n",
       "│ 단독/다가구3    │ 단독/다가구 │ 충청북도 충주시 교현동                    │ NULL    │ 단독     │ 4**     │ NULL    │ NULL    │ 월촌1길          │ NULL        │ NULL     │ NULL         │ 8m미만   │ 84.72           │ 161.00       │ 202001   │ 31      │ 10,500         │ NULL    │ NULL    │ NULL    │ NULL    │ NULL     │ 2009     │ NULL           │ NULL     │ NULL         │ NULL     │\n",
       "│ 단독/다가구4    │ 단독/다가구 │ 강원특별자치도 양구군 국토정중앙면 용하리 │ NULL    │ 단독     │ 3**     │ NULL    │ NULL    │ 정중앙로663번길  │ NULL        │ NULL     │ NULL         │ 8m미만   │ 81.84           │ 621.00       │ 202001   │ 31      │ 5,600          │ NULL    │ NULL    │ NULL    │ NULL    │ NULL     │ 1993     │ NULL           │ NULL     │ NULL         │ NULL     │\n",
       "│ 단독/다가구5    │ 단독/다가구 │ 전북특별자치도 군산시 송풍동              │ NULL    │ 단독     │ 9**     │ NULL    │ NULL    │ 신풍2길          │ NULL        │ NULL     │ NULL         │ 12m미만  │ 54.40           │ 85.00        │ 202001   │ 31      │ 2,700          │ NULL    │ NULL    │ NULL    │ NULL    │ NULL     │ 1970     │ NULL           │ NULL     │ NULL         │ NULL     │\n",
       "│ 단독/다가구6    │ 단독/다가구 │ 전라남도 영광군 군남면 설매리             │ NULL    │ 단독     │ 3**     │ NULL    │ NULL    │ 천년로5길        │ NULL        │ NULL     │ NULL         │ 8m미만   │ 26.40           │ 516.00       │ 202001   │ 31      │ 1,000          │ NULL    │ NULL    │ NULL    │ NULL    │ NULL     │ 1956     │ NULL           │ NULL     │ NULL         │ NULL     │\n",
       "│ 단독/다가구7    │ 단독/다가구 │ 경기도 수원시 권선구 고색동               │ NULL    │ 다가구   │ 2**     │ NULL    │ NULL    │ 고현로5번길      │ NULL        │ NULL     │ NULL         │ 8m미만   │ 440.17          │ 264.00       │ 202001   │ 31      │ 115,000        │ NULL    │ NULL    │ NULL    │ NULL    │ NULL     │ 2018     │ NULL           │ NULL     │ NULL         │ NULL     │\n",
       "│ 단독/다가구8    │ 단독/다가구 │ 경기도 부천시 원미구 심곡동               │ NULL    │ 단독     │ 3**     │ NULL    │ NULL    │ 부일로391번길    │ NULL        │ NULL     │ NULL         │ 12m미만  │ 254.67          │ 149.00       │ 202001   │ 31      │ 56,000         │ NULL    │ NULL    │ NULL    │ NULL    │ NULL     │ 1989     │ NULL           │ NULL     │ NULL         │ NULL     │\n",
       "│ 단독/다가구9    │ 단독/다가구 │ 경기도 부천시 원미구 심곡동               │ NULL    │ 다가구   │ 4**     │ NULL    │ NULL    │ 원미로18번길     │ NULL        │ NULL     │ NULL         │ 8m미만   │ 215.52          │ 136.00       │ 202001   │ 31      │ 54,000         │ NULL    │ NULL    │ NULL    │ NULL    │ NULL     │ 1987     │ NULL           │ NULL     │ NULL         │ NULL     │\n",
       "│ 단독/다가구10   │ 단독/다가구 │ 경기도 파주시 월롱면 덕은리               │ NULL    │ 단독     │ 9*      │ NULL    │ NULL    │ 휴암로79번길     │ NULL        │ NULL     │ NULL         │ NULL     │ 405.68          │ 788.00       │ 202001   │ 31      │ 23,800         │ NULL    │ NULL    │ NULL    │ NULL    │ NULL     │ 1984     │ NULL           │ NULL     │ NULL         │ NULL     │\n",
       "│       ·         │      ·      │              ·                            │  ·      │  ·       │ ·       │  ·      │  ·      │   ·              │  ·          │  ·       │  ·           │  ·       │   ·             │   ·          │   ·      │ ·       │   ·            │  ·      │  ·      │  ·      │  ·      │  ·       │  ·       │  ·             │  ·       │  ·           │  ·       │\n",
       "│       ·         │      ·      │              ·                            │  ·      │  ·       │ ·       │  ·      │  ·      │   ·              │  ·          │  ·       │  ·           │  ·       │   ·             │   ·          │   ·      │ ·       │   ·            │  ·      │  ·      │  ·      │  ·      │  ·       │  ·       │  ·             │  ·       │  ·           │  ·       │\n",
       "│       ·         │      ·      │              ·                            │  ·      │  ·       │ ·       │  ·      │  ·      │   ·              │  ·          │  ·       │  ·           │  ·       │   ·             │   ·          │   ·      │ ·       │   ·            │  ·      │  ·      │  ·      │  ·      │  ·       │  ·       │  ·             │  ·       │  ·           │  ·       │\n",
       "│ 단독/다가구3671 │ 단독/다가구 │ 강원특별자치도 춘천시 남산면 백양리       │ NULL    │ 다가구   │ 3**     │ NULL    │ NULL    │ 서백길           │ NULL        │ NULL     │ NULL         │ 8m미만   │ 254.45          │ 883.00       │ 202002   │ 17      │ 26,300         │ NULL    │ NULL    │ NULL    │ NULL    │ NULL     │ 2013     │ NULL           │ NULL     │ NULL         │ NULL     │\n",
       "│ 단독/다가구3672 │ 단독/다가구 │ 서울특별시 금천구 시흥동                  │ NULL    │ 다가구   │ 8**     │ NULL    │ NULL    │ 금하로9길        │ NULL        │ NULL     │ NULL         │ 8m미만   │ 188.91          │ 134.05       │ 202002   │ 17      │ 60,000         │ NULL    │ NULL    │ NULL    │ NULL    │ NULL     │ 1983     │ NULL           │ NULL     │ NULL         │ NULL     │\n",
       "│ 단독/다가구3673 │ 단독/다가구 │ 서울특별시 금천구 시흥동                  │ NULL    │ 다가구   │ 8**     │ NULL    │ NULL    │ 금하로23나길     │ NULL        │ NULL     │ NULL         │ 8m미만   │ 166.86          │ 111.90       │ 202002   │ 17      │ 70,000         │ NULL    │ NULL    │ NULL    │ NULL    │ NULL     │ 1990     │ NULL           │ NULL     │ NULL         │ NULL     │\n",
       "│ 단독/다가구3674 │ 단독/다가구 │ 부산광역시 수영구 망미동                  │ NULL    │ 단독     │ 8**     │ NULL    │ NULL    │ 망미로28번길     │ NULL        │ NULL     │ NULL         │ 12m미만  │ 406.90          │ 132.90       │ 202002   │ 17      │ 70,000         │ NULL    │ NULL    │ NULL    │ NULL    │ NULL     │ 1991     │ NULL           │ NULL     │ NULL         │ NULL     │\n",
       "│ 단독/다가구3675 │ 단독/다가구 │ 부산광역시 수영구 망미동                  │ NULL    │ 단독     │ 5**     │ NULL    │ NULL    │ 망미배산로36번길 │ NULL        │ NULL     │ NULL         │ 8m미만   │ 66.12           │ 111.40       │ 202002   │ 17      │ 21,000         │ NULL    │ NULL    │ NULL    │ NULL    │ NULL     │ 1974     │ NULL           │ NULL     │ NULL         │ NULL     │\n",
       "│ 단독/다가구3676 │ 단독/다가구 │ 경기도 동두천시 동두천동                  │ NULL    │ 단독     │ 1*      │ NULL    │ NULL    │ 안창말로46번길   │ NULL        │ NULL     │ NULL         │ 8m미만   │ 175.14          │ 492.00       │ 202002   │ 17      │ 36,778         │ NULL    │ NULL    │ NULL    │ NULL    │ NULL     │ 2019     │ NULL           │ NULL     │ NULL         │ NULL     │\n",
       "│ 단독/다가구3677 │ 단독/다가구 │ 서울특별시 도봉구 방학동                  │ NULL    │ 다가구   │ 6**     │ NULL    │ NULL    │ 도당로13라길     │ NULL        │ NULL     │ NULL         │ 8m미만   │ 220.80          │ 120.70       │ 202002   │ 17      │ 54,750         │ NULL    │ NULL    │ NULL    │ NULL    │ NULL     │ 1994     │ NULL           │ NULL     │ NULL         │ NULL     │\n",
       "│ 단독/다가구3678 │ 단독/다가구 │ 서울특별시 도봉구 방학동                  │ NULL    │ 다가구   │ 6**     │ NULL    │ NULL    │ 도당로13라길     │ NULL        │ NULL     │ NULL         │ 8m미만   │ 199.26          │ 120.40       │ 202002   │ 17      │ 47,400         │ NULL    │ NULL    │ NULL    │ NULL    │ NULL     │ 1991     │ NULL           │ NULL     │ NULL         │ NULL     │\n",
       "│ 단독/다가구3679 │ 단독/다가구 │ 대구광역시 달서구 송현동                  │ NULL    │ 다가구   │ 7**     │ NULL    │ NULL    │ 월배로72길       │ NULL        │ NULL     │ NULL         │ 12m미만  │ 359.70          │ 212.00       │ 202002   │ 17      │ 57,000         │ NULL    │ NULL    │ NULL    │ NULL    │ NULL     │ 2006     │ NULL           │ NULL     │ NULL         │ NULL     │\n",
       "│ 단독/다가구3680 │ 단독/다가구 │ 인천광역시 부평구 십정동                  │ NULL    │ 단독     │ 5**     │ NULL    │ NULL    │ 마장로25번길     │ NULL        │ NULL     │ NULL         │ 8m미만   │ 289.06          │ 194.10       │ 202002   │ 17      │ 44,000         │ NULL    │ NULL    │ NULL    │ NULL    │ NULL     │ 1989     │ NULL           │ NULL     │ NULL         │ NULL     │\n",
       "├─────────────────┴─────────────┴───────────────────────────────────────────┴─────────┴──────────┴─────────┴─────────┴─────────┴──────────────────┴─────────────┴──────────┴──────────────┴──────────┴─────────────────┴──────────────┴──────────┴─────────┴────────────────┴─────────┴─────────┴─────────┴─────────┴──────────┴──────────┴────────────────┴──────────┴──────────────┴──────────┤\n",
       "│ ? rows (>9999 rows, 20 shown)                                                                                                                                                                                                                                                                                                                                                      28 columns │\n",
       "└───────────────────────────────────────────────────────────────────────────────────────────────────────────────────────────────────────────────────────────────────────────────────────────────────────────────────────────────────────────────────────────────────────────────────────────────────────────────────────────────────────────────────────────────────────────────────────────────┘"
      ]
     },
     "execution_count": 28,
     "metadata": {},
     "output_type": "execute_result"
    }
   ],
   "source": [
    "# detached\n",
    "\n",
    "# read detached csv\n",
    "detached = con.sql(f\"\"\"\n",
    "    SELECT\n",
    "        CONCAT('단독/다가구', NO) AS NO,\n",
    "        '단독/다가구' AS type,\n",
    "        시군구,\n",
    "        CAST(NULL AS VARCHAR) AS 유형,\n",
    "        주택유형,\n",
    "        번지,\n",
    "        CAST(NULL AS VARCHAR) AS 본번,\n",
    "        CAST(NULL AS VARCHAR) AS 부번,\n",
    "        도로명,\n",
    "        CAST(NULL AS VARCHAR) AS \"단지/건물명\",\n",
    "        CAST(NULL AS VARCHAR) AS 용도지역,\n",
    "        CAST(NULL AS VARCHAR) AS 건축물주용도,\n",
    "        도로조건,\n",
    "        \"연면적(㎡)\" AS \"전용/연면적(㎡)\",\n",
    "        \"대지면적(㎡)\",\n",
    "        계약년월,\n",
    "        계약일,\n",
    "        \"거래금액(만원)\",\n",
    "        CAST(NULL AS VARCHAR) AS 동,\n",
    "        CAST(NULL AS VARCHAR) AS 층,\n",
    "        매수 AS 매수자,\n",
    "        매도 AS 매도자,\n",
    "        CAST(NULL AS VARCHAR) AS 지분구분,\n",
    "        건축년도,\n",
    "        해제사유발생일,\n",
    "        거래유형,\n",
    "        중개사소재지,\n",
    "        CAST(NULL AS VARCHAR) AS 등기일자,\n",
    "    FROM read_csv('{sale_files[\"detached\"]}', header=true, all_varchar=true)\n",
    "\"\"\")\n",
    "detached"
   ]
  },
  {
   "cell_type": "code",
   "execution_count": 29,
   "id": "5a459e05",
   "metadata": {},
   "outputs": [
    {
     "data": {
      "text/plain": [
       "┌──────────────┬──────────┬────────────────────────────────┬─────────┬──────────┬─────────┬─────────┬─────────┬───────────────────┬───────────────────────────────────┬──────────┬──────────────┬──────────┬─────────────────┬──────────────┬──────────┬─────────┬────────────────┬─────────┬─────────┬─────────┬─────────┬──────────┬──────────┬────────────────┬──────────┬──────────────┬──────────┐\n",
       "│      NO      │   type   │             시군구             │  유형   │ 주택유형 │  번지   │  본번   │  부번   │      도로명       │            단지/건물명            │ 용도지역 │ 건축물주용도 │ 도로조건 │ 전용/연면적(㎡) │ 대지면적(㎡) │ 계약년월 │ 계약일  │ 거래금액(만원) │   동    │   층    │ 매수자  │ 매도자  │ 지분구분 │ 건축년도 │ 해제사유발생일 │ 거래유형 │ 중개사소재지 │ 등기일자 │\n",
       "│   varchar    │ varchar  │            varchar             │ varchar │ varchar  │ varchar │ varchar │ varchar │      varchar      │              varchar              │ varchar  │   varchar    │ varchar  │     varchar     │   varchar    │ varchar  │ varchar │    varchar     │ varchar │ varchar │ varchar │ varchar │ varchar  │ varchar  │    varchar     │ varchar  │   varchar    │ varchar  │\n",
       "├──────────────┼──────────┼────────────────────────────────┼─────────┼──────────┼─────────┼─────────┼─────────┼───────────────────┼───────────────────────────────────┼──────────┼──────────────┼──────────┼─────────────────┼──────────────┼──────────┼─────────┼────────────────┼─────────┼─────────┼─────────┼─────────┼──────────┼──────────┼────────────────┼──────────┼──────────────┼──────────┤\n",
       "│ 오피스텔1    │ 오피스텔 │ 경기도 성남시 분당구 서현동    │ NULL    │ NULL     │ 255-1   │ 0255    │ 0001    │ 서현로 170        │ 분당풍림아이원플러스오피스텔      │ NULL     │ NULL         │ NULL     │ 35.0000         │ NULL         │ 202001   │ 31      │ 15,700         │ NULL    │ 16      │ NULL    │ NULL    │ NULL     │ 2004     │ NULL           │ NULL     │ NULL         │ NULL     │\n",
       "│ 오피스텔2    │ 오피스텔 │ 경기도 성남시 분당구 서현동    │ NULL    │ NULL     │ 255-1   │ 0255    │ 0001    │ 서현로 170        │ 분당풍림아이원플러스오피스텔      │ NULL     │ NULL         │ NULL     │ 60.0000         │ NULL         │ 202001   │ 31      │ 25,450         │ NULL    │ 7       │ NULL    │ NULL    │ NULL     │ 2004     │ NULL           │ NULL     │ NULL         │ NULL     │\n",
       "│ 오피스텔3    │ 오피스텔 │ 경기도 성남시 분당구 구미동    │ NULL    │ NULL     │ 24-1    │ 0024    │ 0001    │ 돌마로 80         │ 분당현대벤쳐빌                    │ NULL     │ NULL         │ NULL     │ 139.2900        │ NULL         │ 202001   │ 31      │ 47,800         │ NULL    │ 3       │ NULL    │ NULL    │ NULL     │ 2001     │ NULL           │ NULL     │ NULL         │ NULL     │\n",
       "│ 오피스텔4    │ 오피스텔 │ 경기도 성남시 분당구 서현동    │ NULL    │ NULL     │ 251-3   │ 0251    │ 0003    │ 서현로 184        │ 엘지분당에클라트                  │ NULL     │ NULL         │ NULL     │ 45.0100         │ NULL         │ 202001   │ 31      │ 19,200         │ NULL    │ 8       │ NULL    │ NULL    │ NULL     │ 2004     │ NULL           │ NULL     │ NULL         │ NULL     │\n",
       "│ 오피스텔5    │ 오피스텔 │ 경기도 성남시 분당구 정자동    │ NULL    │ NULL     │ 24      │ 0024    │ 0000    │ 정자일로 177      │ 분당인텔리지2                     │ NULL     │ NULL         │ NULL     │ 76.3600         │ NULL         │ 202001   │ 31      │ 40,400         │ NULL    │ 4       │ NULL    │ NULL    │ NULL     │ 2004     │ NULL           │ NULL     │ NULL         │ NULL     │\n",
       "│ 오피스텔6    │ 오피스텔 │ 경기도 성남시 분당구 정자동    │ NULL    │ NULL     │ 166-2   │ 0166    │ 0002    │ 정자일로 136      │ 정자역 엠코헤리츠 3단지           │ NULL     │ NULL         │ NULL     │ 25.3600         │ NULL         │ 202001   │ 31      │ 20,100         │ NULL    │ 2       │ NULL    │ NULL    │ NULL     │ 2014     │ NULL           │ NULL     │ NULL         │ NULL     │\n",
       "│ 오피스텔7    │ 오피스텔 │ 경기도 성남시 분당구 금곡동    │ NULL    │ NULL     │ 170     │ 0170    │ 0000    │ 정자일로6번길 13  │ 천사의도시Ⅲ오피스텔               │ NULL     │ NULL         │ NULL     │ 36.1600         │ NULL         │ 202001   │ 31      │ 16,500         │ NULL    │ 2       │ NULL    │ NULL    │ NULL     │ 2004     │ NULL           │ NULL     │ NULL         │ NULL     │\n",
       "│ 오피스텔8    │ 오피스텔 │ 서울특별시 광진구 구의동       │ NULL    │ NULL     │ 667     │ 0667    │ 0000    │                   │ 강변에스케이뷰                    │ NULL     │ NULL         │ NULL     │ 28.0100         │ NULL         │ 202001   │ 31      │ 23,700         │ NULL    │ 2       │ NULL    │ NULL    │ NULL     │ 2017     │ NULL           │ NULL     │ NULL         │ NULL     │\n",
       "│ 오피스텔9    │ 오피스텔 │ 경기도 성남시 수정구 창곡동    │ NULL    │ NULL     │ 505     │ 0505    │ 0000    │                   │ 위례 한화 오벨리스크 센트럴스퀘어 │ NULL     │ NULL         │ NULL     │ 77.6400         │ NULL         │ 202001   │ 31      │ 70,000         │ NULL    │ 8       │ NULL    │ NULL    │ NULL     │ 2017     │ NULL           │ NULL     │ NULL         │ NULL     │\n",
       "│ 오피스텔10   │ 오피스텔 │ 경기도 수원시 영통구 하동      │ NULL    │ NULL     │ 1014    │ 1014    │ 0000    │                   │ 광교 힐스테이트 레이크            │ NULL     │ NULL         │ NULL     │ 84.8300         │ NULL         │ 202001   │ 31      │ 60,000         │ NULL    │ 12      │ NULL    │ NULL    │ NULL     │ 2015     │ NULL           │ NULL     │ NULL         │ NULL     │\n",
       "│     ·        │    ·     │             ·                  │  ·      │  ·       │  ·      │  ·      │  ·      │ ·                 │       ·                           │  ·       │  ·           │  ·       │    ·            │  ·           │   ·      │ ·       │   ·            │  ·      │ ·       │  ·      │  ·      │  ·       │  ·       │  ·             │  ·       │  ·           │  ·       │\n",
       "│     ·        │    ·     │             ·                  │  ·      │  ·       │  ·      │  ·      │  ·      │ ·                 │       ·                           │  ·       │  ·           │  ·       │    ·            │  ·           │   ·      │ ·       │   ·            │  ·      │ ·       │  ·      │  ·      │  ·       │  ·       │  ·             │  ·       │  ·           │  ·       │\n",
       "│     ·        │    ·     │             ·                  │  ·      │  ·       │  ·      │  ·      │  ·      │ ·                 │       ·                           │  ·       │  ·           │  ·       │    ·            │  ·           │   ·      │ ·       │   ·            │  ·      │ ·       │  ·      │  ·      │  ·       │  ·       │  ·             │  ·       │  ·           │  ·       │\n",
       "│ 오피스텔2858 │ 오피스텔 │ 제주특별자치도 서귀포시 서호동 │ NULL    │ NULL     │ 798     │ 0798    │ 0000    │ 막동산로46번길 10 │ 웰스 플레이스                     │ NULL     │ NULL         │ NULL     │ 70.2740         │ NULL         │ 202003   │ 04      │ 35,224         │ NULL    │ 5       │ NULL    │ NULL    │ NULL     │ 2020     │ NULL           │ NULL     │ NULL         │ NULL     │\n",
       "│ 오피스텔2859 │ 오피스텔 │ 제주특별자치도 서귀포시 서호동 │ NULL    │ NULL     │ 798     │ 0798    │ 0000    │ 막동산로46번길 10 │ 웰스 플레이스                     │ NULL     │ NULL         │ NULL     │ 66.1490         │ NULL         │ 202003   │ 04      │ 34,034         │ NULL    │ 6       │ NULL    │ NULL    │ NULL     │ 2020     │ NULL           │ NULL     │ NULL         │ NULL     │\n",
       "│ 오피스텔2860 │ 오피스텔 │ 제주특별자치도 서귀포시 서호동 │ NULL    │ NULL     │ 798     │ 0798    │ 0000    │ 막동산로46번길 10 │ 웰스 플레이스                     │ NULL     │ NULL         │ NULL     │ 62.4790         │ NULL         │ 202003   │ 04      │ 32,130         │ NULL    │ 6       │ NULL    │ NULL    │ NULL     │ 2020     │ NULL           │ NULL     │ NULL         │ NULL     │\n",
       "│ 오피스텔2861 │ 오피스텔 │ 제주특별자치도 서귀포시 서호동 │ NULL    │ NULL     │ 798     │ 0798    │ 0000    │ 막동산로46번길 10 │ 웰스 플레이스                     │ NULL     │ NULL         │ NULL     │ 49.9940         │ NULL         │ 202003   │ 04      │ 25,704         │ NULL    │ 6       │ NULL    │ NULL    │ NULL     │ 2020     │ NULL           │ NULL     │ NULL         │ NULL     │\n",
       "│ 오피스텔2862 │ 오피스텔 │ 제주특별자치도 서귀포시 서호동 │ NULL    │ NULL     │ 798     │ 0798    │ 0000    │ 막동산로46번길 10 │ 웰스 플레이스                     │ NULL     │ NULL         │ NULL     │ 48.1940         │ NULL         │ 202003   │ 04      │ 24,752         │ NULL    │ 6       │ NULL    │ NULL    │ NULL     │ 2020     │ NULL           │ NULL     │ NULL         │ NULL     │\n",
       "│ 오피스텔2863 │ 오피스텔 │ 제주특별자치도 서귀포시 서호동 │ NULL    │ NULL     │ 798     │ 0798    │ 0000    │ 막동산로46번길 10 │ 웰스 플레이스                     │ NULL     │ NULL         │ NULL     │ 70.2740         │ NULL         │ 202003   │ 04      │ 36,176         │ NULL    │ 6       │ NULL    │ NULL    │ NULL     │ 2020     │ NULL           │ NULL     │ NULL         │ NULL     │\n",
       "│ 오피스텔2864 │ 오피스텔 │ 제주특별자치도 서귀포시 서호동 │ NULL    │ NULL     │ 798     │ 0798    │ 0000    │ 막동산로46번길 10 │ 웰스 플레이스                     │ NULL     │ NULL         │ NULL     │ 70.2740         │ NULL         │ 202003   │ 04      │ 37,128         │ NULL    │ 7       │ NULL    │ NULL    │ NULL     │ 2020     │ NULL           │ NULL     │ NULL         │ NULL     │\n",
       "│ 오피스텔2865 │ 오피스텔 │ 제주특별자치도 서귀포시 서호동 │ NULL    │ NULL     │ 798     │ 0798    │ 0000    │ 막동산로46번길 10 │ 웰스 플레이스                     │ NULL     │ NULL         │ NULL     │ 66.1490         │ NULL         │ 202003   │ 04      │ 30,586         │ NULL    │ 2       │ NULL    │ NULL    │ NULL     │ 2020     │ NULL           │ NULL     │ NULL         │ NULL     │\n",
       "│ 오피스텔2866 │ 오피스텔 │ 제주특별자치도 서귀포시 서호동 │ NULL    │ NULL     │ 798     │ 0798    │ 0000    │ 막동산로46번길 10 │ 웰스 플레이스                     │ NULL     │ NULL         │ NULL     │ 66.1490         │ NULL         │ 202003   │ 04      │ 34,986         │ NULL    │ 7       │ NULL    │ NULL    │ NULL     │ 2020     │ NULL           │ NULL     │ NULL         │ NULL     │\n",
       "│ 오피스텔2867 │ 오피스텔 │ 제주특별자치도 서귀포시 서호동 │ NULL    │ NULL     │ 798     │ 0798    │ 0000    │ 막동산로46번길 10 │ 웰스 플레이스                     │ NULL     │ NULL         │ NULL     │ 62.4790         │ NULL         │ 202003   │ 04      │ 32,963         │ NULL    │ 7       │ NULL    │ NULL    │ NULL     │ 2020     │ NULL           │ NULL     │ NULL         │ NULL     │\n",
       "├──────────────┴──────────┴────────────────────────────────┴─────────┴──────────┴─────────┴─────────┴─────────┴───────────────────┴───────────────────────────────────┴──────────┴──────────────┴──────────┴─────────────────┴──────────────┴──────────┴─────────┴────────────────┴─────────┴─────────┴─────────┴─────────┴──────────┴──────────┴────────────────┴──────────┴──────────────┴──────────┤\n",
       "│ ? rows (>9999 rows, 20 shown)                                                                                                                                                                                                                                                                                                                                                            28 columns │\n",
       "└─────────────────────────────────────────────────────────────────────────────────────────────────────────────────────────────────────────────────────────────────────────────────────────────────────────────────────────────────────────────────────────────────────────────────────────────────────────────────────────────────────────────────────────────────────────────────────────────────────┘"
      ]
     },
     "execution_count": 29,
     "metadata": {},
     "output_type": "execute_result"
    }
   ],
   "source": [
    "# officetel\n",
    "\n",
    "# read officetel csv\n",
    "officetel = con.sql(f\"\"\"\n",
    "    SELECT\n",
    "        CONCAT('오피스텔', NO) AS NO,\n",
    "        '오피스텔' AS type,\n",
    "        시군구,\n",
    "        CAST(NULL AS VARCHAR) AS 유형,\n",
    "        CAST(NULL AS VARCHAR) AS 주택유형,\n",
    "        번지,\n",
    "        본번,\n",
    "        부번,\n",
    "        도로명,\n",
    "        단지명 AS \"단지/건물명\",\n",
    "        CAST(NULL AS VARCHAR) AS 용도지역,\n",
    "        CAST(NULL AS VARCHAR) AS 건축물주용도,\n",
    "        CAST(NULL AS VARCHAR) AS 도로조건,\n",
    "        \"전용면적(㎡)\" AS \"전용/연면적(㎡)\",\n",
    "        CAST(NULL AS VARCHAR) AS \"대지면적(㎡)\",\n",
    "        계약년월,\n",
    "        계약일,\n",
    "        \"거래금액(만원)\",\n",
    "        CAST(NULL AS VARCHAR) AS 동,\n",
    "        층,\n",
    "        매수 AS 매수자,\n",
    "        매도 AS 매도자,\n",
    "        CAST(NULL AS VARCHAR) AS 지분구분,\n",
    "        건축년도,\n",
    "        해제사유발생일,\n",
    "        거래유형,\n",
    "        중개사소재지,\n",
    "        CAST(NULL AS VARCHAR) AS 등기일자,\n",
    "    FROM read_csv('{sale_files[\"officetel\"]}', header=true, all_varchar=true)\n",
    "\"\"\")\n",
    "officetel"
   ]
  },
  {
   "cell_type": "code",
   "execution_count": 30,
   "id": "fbaf7739",
   "metadata": {},
   "outputs": [
    {
     "data": {
      "text/plain": [
       "┌──────────────────┬─────────────┬───────────────────────────────┬─────────┬──────────┬─────────┬─────────┬─────────┬─────────────────────┬──────────────────────────┬──────────┬──────────────┬──────────┬─────────────────┬──────────────┬──────────┬─────────┬────────────────┬─────────┬─────────┬─────────┬─────────┬──────────┬──────────┬────────────────┬──────────┬──────────────┬──────────┐\n",
       "│        NO        │    type     │            시군구             │  유형   │ 주택유형 │  번지   │  본번   │  부번   │       도로명        │       단지/건물명        │ 용도지역 │ 건축물주용도 │ 도로조건 │ 전용/연면적(㎡) │ 대지면적(㎡) │ 계약년월 │ 계약일  │ 거래금액(만원) │   동    │   층    │ 매수자  │ 매도자  │ 지분구분 │ 건축년도 │ 해제사유발생일 │ 거래유형 │ 중개사소재지 │ 등기일자 │\n",
       "│     varchar      │   varchar   │            varchar            │ varchar │ varchar  │ varchar │ varchar │ varchar │       varchar       │         varchar          │ varchar  │   varchar    │ varchar  │     varchar     │   varchar    │ varchar  │ varchar │    varchar     │ varchar │ varchar │ varchar │ varchar │ varchar  │ varchar  │    varchar     │ varchar  │   varchar    │ varchar  │\n",
       "├──────────────────┼─────────────┼───────────────────────────────┼─────────┼──────────┼─────────┼─────────┼─────────┼─────────────────────┼──────────────────────────┼──────────┼──────────────┼──────────┼─────────────────┼──────────────┼──────────┼─────────┼────────────────┼─────────┼─────────┼─────────┼─────────┼──────────┼──────────┼────────────────┼──────────┼──────────────┼──────────┤\n",
       "│ 연립/다세대1     │ 연립/다세대 │ 대전광역시 대덕구 송촌동      │ NULL    │ NULL     │ 242-53  │ 0242    │ 0053    │ 한밭대로1283번길 54 │ 국제빌라(242-53)         │ NULL     │ NULL         │ NULL     │ 72.5400         │ 52.3800      │ 202001   │ 31      │ 10,300         │ NULL    │ 4       │ NULL    │ NULL    │ NULL     │ 1994     │ NULL           │ NULL     │ NULL         │ NULL     │\n",
       "│ 연립/다세대2     │ 연립/다세대 │ 서울특별시 은평구 신사동      │ NULL    │ NULL     │ 19-101  │ 0019    │ 0101    │ 은평로1길 6-10      │ 해원맨숀(19-101)         │ NULL     │ NULL         │ NULL     │ 84.4700         │ 74.6200      │ 202001   │ 31      │ 45,140         │ NULL    │ 1       │ NULL    │ NULL    │ NULL     │ 1980     │ NULL           │ NULL     │ NULL         │ NULL     │\n",
       "│ 연립/다세대3     │ 연립/다세대 │ 경기도 용인시 수지구 신봉동   │ NULL    │ NULL     │ 1024    │ 1024    │ 0000    │ 태봉로 17           │ 광교산한양수자인더킨포크 │ NULL     │ NULL         │ NULL     │ 84.9460         │ 143.8322     │ 202001   │ 31      │ 40,400         │ NULL    │ 3       │ NULL    │ NULL    │ NULL     │ 2017     │ NULL           │ NULL     │ NULL         │ NULL     │\n",
       "│ 연립/다세대4     │ 연립/다세대 │ 경기도 부천시 오정구 오정동   │ NULL    │ NULL     │ 617-9   │ 0617    │ 0009    │ 상오정로94번길 8    │ 건우주택(617-9)          │ NULL     │ NULL         │ NULL     │ 39.7800         │ 33.6550      │ 202001   │ 31      │ 9,500          │ NULL    │ 4       │ NULL    │ NULL    │ NULL     │ 1993     │ NULL           │ NULL     │ NULL         │ NULL     │\n",
       "│ 연립/다세대5     │ 연립/다세대 │ 경기도 부천시 오정구 고강동   │ NULL    │ NULL     │ 392-20  │ 0392    │ 0020    │ 역곡로496번길 73    │ 금성주택3동              │ NULL     │ NULL         │ NULL     │ 35.7600         │ 35.1700      │ 202001   │ 31      │ 10,200         │ NULL    │ 1       │ NULL    │ NULL    │ NULL     │ 1990     │ NULL           │ NULL     │ NULL         │ NULL     │\n",
       "│ 연립/다세대6     │ 연립/다세대 │ 경기도 부천시 원미구 심곡동   │ NULL    │ NULL     │ 126-1   │ 0126    │ 0001    │ 부흥로413번길 15    │ 진양                     │ NULL     │ NULL         │ NULL     │ 36.6000         │ 30.0889      │ 202001   │ 31      │ 11,500         │ NULL    │ 1       │ NULL    │ NULL    │ NULL     │ 1983     │ NULL           │ NULL     │ NULL         │ NULL     │\n",
       "│ 연립/다세대7     │ 연립/다세대 │ 서울특별시 동작구 사당동      │ NULL    │ NULL     │ 278-30  │ 0278    │ 0030    │ 사당로16다길 30     │ 카보드빌                 │ NULL     │ NULL         │ NULL     │ 62.6300         │ 34.6900      │ 202001   │ 31      │ 37,000         │ NULL    │ 1       │ NULL    │ NULL    │ NULL     │ 2009     │ NULL           │ NULL     │ NULL         │ NULL     │\n",
       "│ 연립/다세대8     │ 연립/다세대 │ 경기도 부천시 오정구 오정동   │ NULL    │ NULL     │ 140-75  │ 0140    │ 0075    │ 상오정로108번길 28  │ 삼성주택다동             │ NULL     │ NULL         │ NULL     │ 25.3200         │ 27.9800      │ 202001   │ 31      │ 7,000          │ NULL    │ 2       │ NULL    │ NULL    │ NULL     │ 1990     │ NULL           │ NULL     │ NULL         │ NULL     │\n",
       "│ 연립/다세대9     │ 연립/다세대 │ 경기도 부천시 소사구 괴안동   │ NULL    │ NULL     │ 32      │ 0032    │ 0000    │ 안곡로 22           │ 조공2차                  │ NULL     │ NULL         │ NULL     │ 78.1560         │ 78.2726      │ 202001   │ 31      │ 30,000         │ NULL    │ 4       │ NULL    │ NULL    │ NULL     │ 1985     │ NULL           │ NULL     │ NULL         │ NULL     │\n",
       "│ 연립/다세대10    │ 연립/다세대 │ 경기도 안산시 단원구 와동     │ NULL    │ NULL     │ 829-1   │ 0829    │ 0001    │ 화정로1길 17        │ 배원                     │ NULL     │ NULL         │ NULL     │ 44.2800         │ 48.3830      │ 202001   │ 31      │ 10,000         │ NULL    │ 3       │ NULL    │ NULL    │ NULL     │ 1989     │ NULL           │ NULL     │ NULL         │ NULL     │\n",
       "│       ·          │      ·      │          ·                    │  ·      │  ·       │   ·     │  ·      │  ·      │      ·              │  ·                       │  ·       │  ·           │  ·       │    ·            │    ·         │   ·      │ ·       │   ·            │  ·      │ ·       │  ·      │  ·      │  ·       │  ·       │  ·             │  ·       │  ·           │  ·       │\n",
       "│       ·          │      ·      │          ·                    │  ·      │  ·       │   ·     │  ·      │  ·      │      ·              │  ·                       │  ·       │  ·           │  ·       │    ·            │    ·         │   ·      │ ·       │   ·            │  ·      │ ·       │  ·      │  ·      │  ·       │  ·       │  ·             │  ·       │  ·           │  ·       │\n",
       "│       ·          │      ·      │          ·                    │  ·      │  ·       │   ·     │  ·      │  ·      │      ·              │  ·                       │  ·       │  ·           │  ·       │    ·            │    ·         │   ·      │ ·       │   ·            │  ·      │ ·       │  ·      │  ·      │  ·       │  ·       │  ·             │  ·       │  ·           │  ·       │\n",
       "│ 연립/다세대9991  │ 연립/다세대 │ 경기도 군포시 당정동          │ NULL    │ NULL     │ 1006-6  │ 1006    │ 0006    │ 한세로12번안길 8    │ (1006-6)                 │ NULL     │ NULL         │ NULL     │ 40.1500         │ 65.4033      │ 202001   │ 07      │ 18,000         │ NULL    │ 1       │ NULL    │ NULL    │ NULL     │ 1983     │ NULL           │ NULL     │ NULL         │ NULL     │\n",
       "│ 연립/다세대9992  │ 연립/다세대 │ 경기도 군포시 금정동          │ NULL    │ NULL     │ 699-4   │ 0699    │ 0004    │ 금정로18번길 16-1   │ 영진A동                  │ NULL     │ NULL         │ NULL     │ 31.3600         │ 21.0917      │ 202001   │ 07      │ 12,000         │ NULL    │ 3       │ NULL    │ NULL    │ NULL     │ 1989     │ NULL           │ NULL     │ NULL         │ NULL     │\n",
       "│ 연립/다세대9993  │ 연립/다세대 │ 경기도 군포시 금정동          │ NULL    │ NULL     │ 711-12  │ 0711    │ 0012    │ 번영로587번길 21-2  │ 까치하이츠9동            │ NULL     │ NULL         │ NULL     │ 36.1800         │ 21.5250      │ 202001   │ 07      │ 12,000         │ NULL    │ -1      │ NULL    │ NULL    │ NULL     │ 1989     │ NULL           │ NULL     │ NULL         │ NULL     │\n",
       "│ 연립/다세대9994  │ 연립/다세대 │ 경기도 군포시 금정동          │ NULL    │ NULL     │ 747-27  │ 0747    │ 0027    │ 쟁골1길 21          │ 중앙빌라4차              │ NULL     │ NULL         │ NULL     │ 36.3000         │ 26.8125      │ 202001   │ 07      │ 18,000         │ NULL    │ 1       │ NULL    │ NULL    │ NULL     │ 1990     │ NULL           │ NULL     │ NULL         │ NULL     │\n",
       "│ 연립/다세대9995  │ 연립/다세대 │ 경기도 시흥시 신천동          │ NULL    │ NULL     │ 745-1   │ 0745    │ 0001    │ 삼미시장2길 4       │ 미림아트빌               │ NULL     │ NULL         │ NULL     │ 53.0100         │ 28.4500      │ 202001   │ 07      │ 7,000          │ NULL    │ -1      │ NULL    │ NULL    │ NULL     │ 2002     │ NULL           │ NULL     │ NULL         │ NULL     │\n",
       "│ 연립/다세대9996  │ 연립/다세대 │ 경기도 시흥시 은행동          │ NULL    │ NULL     │ 274-3   │ 0274    │ 0003    │ 검바위2로 40-24     │ 동경주택8차다동          │ NULL     │ NULL         │ NULL     │ 76.1500         │ 48.8750      │ 202001   │ 07      │ 13,000         │ NULL    │ 1       │ NULL    │ NULL    │ NULL     │ 1992     │ NULL           │ NULL     │ NULL         │ NULL     │\n",
       "│ 연립/다세대9997  │ 연립/다세대 │ 경기도 시흥시 신천동          │ NULL    │ NULL     │ 776-14  │ 0776    │ 0014    │ 신천로104번길 14-1  │ 솔빛마을8차1동           │ NULL     │ NULL         │ NULL     │ 24.4200         │ 12.9700      │ 202001   │ 07      │ 8,300          │ NULL    │ 4       │ NULL    │ NULL    │ NULL     │ 2002     │ NULL           │ NULL     │ NULL         │ NULL     │\n",
       "│ 연립/다세대9998  │ 연립/다세대 │ 경기도 오산시 원동            │ NULL    │ NULL     │ 781-3   │ 0781    │ 0003    │ 원동로 15           │ 신안경일연립             │ NULL     │ NULL         │ NULL     │ 64.2000         │ 56.0000      │ 202001   │ 07      │ 12,000         │ NULL    │ 2       │ NULL    │ NULL    │ NULL     │ 1978     │ NULL           │ NULL     │ NULL         │ NULL     │\n",
       "│ 연립/다세대9999  │ 연립/다세대 │ 경기도 오산시 수청동          │ NULL    │ NULL     │ 370     │ 0370    │ 0000    │ 청학로173번길 6     │ 화성국민주택             │ NULL     │ NULL         │ NULL     │ 50.0400         │ 68.3376      │ 202001   │ 07      │ 9,300          │ NULL    │ 3       │ NULL    │ NULL    │ NULL     │ 1984     │ NULL           │ NULL     │ NULL         │ NULL     │\n",
       "│ 연립/다세대10000 │ 연립/다세대 │ 경기도 남양주시 진접읍 장현리 │ NULL    │ NULL     │ 423-1   │ 0423    │ 0001    │ 장현천로76번길 8    │ 장현리스카이캐슬105동    │ NULL     │ NULL         │ NULL     │ 59.4450         │ 72.7071      │ 202001   │ 07      │ 15,950         │ NULL    │ 3       │ NULL    │ NULL    │ NULL     │ 2013     │ NULL           │ NULL     │ NULL         │ NULL     │\n",
       "├──────────────────┴─────────────┴───────────────────────────────┴─────────┴──────────┴─────────┴─────────┴─────────┴─────────────────────┴──────────────────────────┴──────────┴──────────────┴──────────┴─────────────────┴──────────────┴──────────┴─────────┴────────────────┴─────────┴─────────┴─────────┴─────────┴──────────┴──────────┴────────────────┴──────────┴──────────────┴──────────┤\n",
       "│ ? rows (>9999 rows, 20 shown)                                                                                                                                                                                                                                                                                                                                                           28 columns │\n",
       "└────────────────────────────────────────────────────────────────────────────────────────────────────────────────────────────────────────────────────────────────────────────────────────────────────────────────────────────────────────────────────────────────────────────────────────────────────────────────────────────────────────────────────────────────────────────────────────────────────┘"
      ]
     },
     "execution_count": 30,
     "metadata": {},
     "output_type": "execute_result"
    }
   ],
   "source": [
    "# multifamily\n",
    "\n",
    "# read multifamily csv\n",
    "multifamily = con.sql(f\"\"\"\n",
    "    SELECT\n",
    "        CONCAT('연립/다세대', NO) AS NO,\n",
    "        '연립/다세대' AS type,\n",
    "        시군구,\n",
    "        CAST(NULL AS VARCHAR) AS 유형,\n",
    "        CAST(NULL AS VARCHAR) AS 주택유형,\n",
    "        번지,\n",
    "        본번,\n",
    "        부번,\n",
    "        도로명,\n",
    "        건물명 AS \"단지/건물명\",\n",
    "        CAST(NULL AS VARCHAR) AS 용도지역,\n",
    "        CAST(NULL AS VARCHAR) AS 건축물주용도,\n",
    "        CAST(NULL AS VARCHAR) AS 도로조건,\n",
    "        \"전용면적(㎡)\" AS \"전용/연면적(㎡)\",\n",
    "        \"대지권면적(㎡)\" AS \"대지면적(㎡)\",\n",
    "        계약년월,\n",
    "        계약일,\n",
    "        \"거래금액(만원)\",\n",
    "        CAST(NULL AS VARCHAR) AS 동,\n",
    "        층,\n",
    "        매수자,\n",
    "        매도자,\n",
    "        CAST(NULL AS VARCHAR) AS 지분구분,\n",
    "        건축년도,\n",
    "        해제사유발생일,\n",
    "        거래유형,\n",
    "        중개사소재지,\n",
    "        등기일자,\n",
    "    FROM read_csv('{sale_files[\"multifamily\"]}', header=true, all_varchar=true)\n",
    "\"\"\")\n",
    "multifamily"
   ]
  },
  {
   "cell_type": "code",
   "execution_count": 31,
   "id": "61ce2e30",
   "metadata": {},
   "outputs": [
    {
     "data": {
      "text/plain": [
       "┌─────────────┬─────────┬─────────────────────────────────────┬─────────┬──────────┬─────────┬─────────┬─────────┬────────────────────┬────────────────────────┬──────────┬──────────────┬──────────┬─────────────────┬──────────────┬──────────┬─────────┬────────────────┬─────────┬─────────┬─────────┬─────────┬──────────┬──────────┬────────────────┬──────────┬──────────────┬──────────┐\n",
       "│     NO      │  type   │               시군구                │  유형   │ 주택유형 │  번지   │  본번   │  부번   │       도로명       │      단지/건물명       │ 용도지역 │ 건축물주용도 │ 도로조건 │ 전용/연면적(㎡) │ 대지면적(㎡) │ 계약년월 │ 계약일  │ 거래금액(만원) │   동    │   층    │ 매수자  │ 매도자  │ 지분구분 │ 건축년도 │ 해제사유발생일 │ 거래유형 │ 중개사소재지 │ 등기일자 │\n",
       "│   varchar   │ varchar │               varchar               │ varchar │ varchar  │ varchar │ varchar │ varchar │      varchar       │        varchar         │ varchar  │   varchar    │ varchar  │     varchar     │   varchar    │ varchar  │ varchar │    varchar     │ varchar │ varchar │ varchar │ varchar │ varchar  │ varchar  │    varchar     │ varchar  │   varchar    │ varchar  │\n",
       "├─────────────┼─────────┼─────────────────────────────────────┼─────────┼──────────┼─────────┼─────────┼─────────┼────────────────────┼────────────────────────┼──────────┼──────────────┼──────────┼─────────────────┼──────────────┼──────────┼─────────┼────────────────┼─────────┼─────────┼─────────┼─────────┼──────────┼──────────┼────────────────┼──────────┼──────────────┼──────────┤\n",
       "│ 아파트1     │ 아파트  │ 인천광역시 미추홀구 학익동          │ NULL    │ NULL     │ 719     │ 0719    │ 0000    │ 소성로 120         │ 동아풍림               │ NULL     │ NULL         │ NULL     │ 59.7500         │ NULL         │ 202001   │ 31      │ 25,700         │ NULL    │ 12      │ NULL    │ NULL    │ NULL     │ 1999     │ NULL           │ NULL     │ NULL         │ NULL     │\n",
       "│ 아파트2     │ 아파트  │ 인천광역시 미추홀구 학익동          │ NULL    │ NULL     │ 125-1   │ 0125    │ 0001    │ 소성로 211         │ 신동아1                │ NULL     │ NULL         │ NULL     │ 41.9600         │ NULL         │ 202001   │ 31      │ 12,800         │ NULL    │ 12      │ NULL    │ NULL    │ NULL     │ 1988     │ NULL           │ NULL     │ NULL         │ NULL     │\n",
       "│ 아파트3     │ 아파트  │ 인천광역시 미추홀구 학익동          │ NULL    │ NULL     │ 48-2    │ 0048    │ 0002    │ 학익소로61번길 132 │ 신동아4                │ NULL     │ NULL         │ NULL     │ 127.0200        │ NULL         │ 202001   │ 31      │ 26,200         │ NULL    │ 5       │ NULL    │ NULL    │ NULL     │ 1990     │ NULL           │ NULL     │ NULL         │ NULL     │\n",
       "│ 아파트4     │ 아파트  │ 서울특별시 송파구 방이동            │ NULL    │ NULL     │ 217     │ 0217    │ 0000    │ 양재대로 1109      │ 대림                   │ NULL     │ NULL         │ NULL     │ 153.4750        │ NULL         │ 202001   │ 31      │ 153,000        │ NULL    │ 11      │ NULL    │ NULL    │ NULL     │ 1985     │ NULL           │ NULL     │ NULL         │ NULL     │\n",
       "│ 아파트5     │ 아파트  │ 서울특별시 송파구 방이동            │ NULL    │ NULL     │ 217     │ 0217    │ 0000    │ 양재대로 1109      │ 대림                   │ NULL     │ NULL         │ NULL     │ 125.0750        │ NULL         │ 202001   │ 31      │ 145,500        │ NULL    │ 5       │ NULL    │ NULL    │ NULL     │ 1985     │ NULL           │ NULL     │ NULL         │ NULL     │\n",
       "│ 아파트6     │ 아파트  │ 인천광역시 남동구 논현동            │ NULL    │ NULL     │ 766-1   │ 0766    │ 0001    │ 에코중앙로 96      │ 에코메트로9            │ NULL     │ NULL         │ NULL     │ 123.8120        │ NULL         │ 202001   │ 31      │ 46,500         │ NULL    │ 8       │ NULL    │ NULL    │ NULL     │ 2011     │ NULL           │ NULL     │ NULL         │ NULL     │\n",
       "│ 아파트7     │ 아파트  │ 서울특별시 금천구 독산동            │ NULL    │ NULL     │ 1140    │ 1140    │ 0000    │ 범안로 1136        │ 독산동중앙하이츠빌     │ NULL     │ NULL         │ NULL     │ 84.8768         │ NULL         │ 202001   │ 31      │ 55,000         │ NULL    │ 11      │ NULL    │ NULL    │ NULL     │ 2004     │ NULL           │ NULL     │ NULL         │ NULL     │\n",
       "│ 아파트8     │ 아파트  │ 인천광역시 미추홀구 도화동          │ NULL    │ NULL     │ 557-1   │ 0557    │ 0001    │ 주안로 27          │ 동원                   │ NULL     │ NULL         │ NULL     │ 47.0700         │ NULL         │ 202001   │ 31      │ 11,000         │ NULL    │ 1       │ NULL    │ NULL    │ NULL     │ 1987     │ NULL           │ NULL     │ NULL         │ NULL     │\n",
       "│ 아파트9     │ 아파트  │ 부산광역시 동래구 사직동            │ NULL    │ NULL     │ 139-5   │ 0139    │ 0005    │ 여고북로 140       │ 동원                   │ NULL     │ NULL         │ NULL     │ 59.6400         │ NULL         │ 202001   │ 31      │ 16,600         │ NULL    │ 3       │ NULL    │ NULL    │ NULL     │ 1980     │ NULL           │ NULL     │ NULL         │ NULL     │\n",
       "│ 아파트10    │ 아파트  │ 부산광역시 동래구 사직동            │ NULL    │ NULL     │ 1028    │ 1028    │ 0000    │ 사직북로 64        │ 사직KCC스위첸2단지     │ NULL     │ NULL         │ NULL     │ 84.9921         │ NULL         │ 202001   │ 31      │ 57,800         │ NULL    │ 15      │ NULL    │ NULL    │ NULL     │ 2016     │ NULL           │ NULL     │ NULL         │ NULL     │\n",
       "│    ·        │   ·     │           ·                         │  ·      │  ·       │  ·      │  ·      │  ·      │      ·             │        ·               │  ·       │  ·           │  ·       │    ·            │  ·           │   ·      │ ·       │   ·            │  ·      │ ·       │  ·      │  ·      │  ·       │  ·       │  ·             │  ·       │  ·           │  ·       │\n",
       "│    ·        │   ·     │           ·                         │  ·      │  ·       │  ·      │  ·      │  ·      │      ·             │        ·               │  ·       │  ·           │  ·       │    ·            │  ·           │   ·      │ ·       │   ·            │  ·      │ ·       │  ·      │  ·      │  ·       │  ·       │  ·             │  ·       │  ·           │  ·       │\n",
       "│    ·        │   ·     │           ·                         │  ·      │  ·       │  ·      │  ·      │  ·      │      ·             │        ·               │  ·       │  ·           │  ·       │    ·            │  ·           │   ·      │ ·       │   ·            │  ·      │ ·       │  ·      │  ·      │  ·       │  ·       │  ·             │  ·       │  ·           │  ·       │\n",
       "│ 아파트9991  │ 아파트  │ 경상남도 진주시 평거동              │ NULL    │ NULL     │ 1132    │ 1132    │ 0000    │ 새평거로 30        │ 엠코타운더프라하       │ NULL     │ NULL         │ NULL     │ 119.7937        │ NULL         │ 202001   │ 23      │ 47,000         │ NULL    │ 4       │ NULL    │ NULL    │ NULL     │ 2014     │ NULL           │ NULL     │ NULL         │ NULL     │\n",
       "│ 아파트9992  │ 아파트  │ 경상남도 진주시 가좌동              │ NULL    │ NULL     │ 1981    │ 1981    │ 0000    │ 진주역로73번길     │ 센트렐웰가             │ NULL     │ NULL         │ NULL     │ 59.4500         │ NULL         │ 202001   │ 23      │ 27,000         │ NULL    │ 11      │ NULL    │ NULL    │ NULL     │ 2018     │ NULL           │ NULL     │ NULL         │ NULL     │\n",
       "│ 아파트9993  │ 아파트  │ 경상남도 양산시 물금읍 범어리       │ NULL    │ NULL     │ 2713-1  │ 2713    │ 0001    │ 신주로 69          │ 신창비바패밀리         │ NULL     │ NULL         │ NULL     │ 84.8390         │ NULL         │ 202001   │ 23      │ 23,600         │ NULL    │ 4       │ NULL    │ NULL    │ NULL     │ 2009     │ NULL           │ NULL     │ NULL         │ NULL     │\n",
       "│ 아파트9994  │ 아파트  │ 강원특별자치도 동해시 동회동        │ NULL    │ NULL     │ 451     │ 0451    │ 0000    │ 효자남길 33-20     │ 북삼하우스디아파트     │ NULL     │ NULL         │ NULL     │ 84.9625         │ NULL         │ 202001   │ 23      │ 26,000         │ NULL    │ 26      │ NULL    │ NULL    │ NULL     │ 2018     │ NULL           │ NULL     │ NULL         │ NULL     │\n",
       "│ 아파트9995  │ 아파트  │ 전북특별자치도 군산시 옥산면 당북리 │ NULL    │ NULL     │ 1048    │ 1048    │ 0000    │ 월명로 55          │ 군산대광로제비앙아파트 │ NULL     │ NULL         │ NULL     │ 84.9959         │ NULL         │ 202001   │ 23      │ 22,400         │ NULL    │ 14      │ NULL    │ NULL    │ NULL     │ 2017     │ NULL           │ NULL     │ NULL         │ NULL     │\n",
       "│ 아파트9996  │ 아파트  │ 경상남도 창원시 성산구 사파동       │ NULL    │ NULL     │ 93      │ 0093    │ 0000    │ 창이대로 737       │ 동성                   │ NULL     │ NULL         │ NULL     │ 59.9200         │ NULL         │ 202001   │ 23      │ 16,700         │ NULL    │ 16      │ NULL    │ NULL    │ NULL     │ 1992     │ NULL           │ NULL     │ NULL         │ NULL     │\n",
       "│ 아파트9997  │ 아파트  │ 경상북도 경산시 중방동              │ NULL    │ NULL     │ 893     │ 0893    │ 0000    │ 대학로32길 12      │ 중방e-편한세상1단지    │ NULL     │ NULL         │ NULL     │ 84.9690         │ NULL         │ 202001   │ 23      │ 42,500         │ NULL    │ 10      │ NULL    │ NULL    │ NULL     │ 2010     │ NULL           │ NULL     │ NULL         │ NULL     │\n",
       "│ 아파트9998  │ 아파트  │ 전북특별자치도 정읍시 상동          │ NULL    │ NULL     │ 17-1    │ 0017    │ 0001    │ 금붕1길 1-1        │ 대림                   │ NULL     │ NULL         │ NULL     │ 59.5750         │ NULL         │ 202001   │ 23      │ 7,800          │ NULL    │ 8       │ NULL    │ NULL    │ NULL     │ 1993     │ NULL           │ NULL     │ NULL         │ NULL     │\n",
       "│ 아파트9999  │ 아파트  │ 전북특별자치도 정읍시 상동          │ NULL    │ NULL     │ 82      │ 0082    │ 0000    │ 학산로 95          │ 우미타운               │ NULL     │ NULL         │ NULL     │ 59.8800         │ NULL         │ 202001   │ 23      │ 8,350          │ NULL    │ 13      │ NULL    │ NULL    │ NULL     │ 1997     │ NULL           │ NULL     │ NULL         │ NULL     │\n",
       "│ 아파트10000 │ 아파트  │ 전북특별자치도 전주시 덕진구 만성동 │ NULL    │ NULL     │ 1367-1  │ 1367    │ 0001    │ 만성로 181         │ 골드클래스             │ NULL     │ NULL         │ NULL     │ 84.9525         │ NULL         │ 202001   │ 23      │ 39,500         │ NULL    │ 15      │ NULL    │ NULL    │ NULL     │ 2018     │ NULL           │ NULL     │ NULL         │ NULL     │\n",
       "├─────────────┴─────────┴─────────────────────────────────────┴─────────┴──────────┴─────────┴─────────┴─────────┴────────────────────┴────────────────────────┴──────────┴──────────────┴──────────┴─────────────────┴──────────────┴──────────┴─────────┴────────────────┴─────────┴─────────┴─────────┴─────────┴──────────┴──────────┴────────────────┴──────────┴──────────────┴──────────┤\n",
       "│ ? rows (>9999 rows, 20 shown)                                                                                                                                                                                                                                                                                                                                                     28 columns │\n",
       "└──────────────────────────────────────────────────────────────────────────────────────────────────────────────────────────────────────────────────────────────────────────────────────────────────────────────────────────────────────────────────────────────────────────────────────────────────────────────────────────────────────────────────────────────────────────────────────────────┘"
      ]
     },
     "execution_count": 31,
     "metadata": {},
     "output_type": "execute_result"
    }
   ],
   "source": [
    "# apart\n",
    "\n",
    "# read apart csv\n",
    "# df_apart = pd.read_csv(sale_files['apart'], dtype=str)\n",
    "apart = con.sql(f\"\"\"\n",
    "    SELECT\n",
    "        CONCAT('아파트', NO) AS NO,\n",
    "        '아파트' AS type,\n",
    "        시군구,\n",
    "        CAST(NULL AS VARCHAR) AS 유형,\n",
    "        CAST(NULL AS VARCHAR) AS 주택유형,\n",
    "        번지,\n",
    "        본번,\n",
    "        부번,\n",
    "        도로명,\n",
    "        단지명 AS \"단지/건물명\",\n",
    "        CAST(NULL AS VARCHAR) AS 용도지역,\n",
    "        CAST(NULL AS VARCHAR) AS 건축물주용도,\n",
    "        CAST(NULL AS VARCHAR) AS 도로조건,\n",
    "        \"전용면적(㎡)\" AS \"전용/연면적(㎡)\",\n",
    "        CAST(NULL AS VARCHAR) AS \"대지면적(㎡)\",\n",
    "        계약년월,\n",
    "        계약일,\n",
    "        \"거래금액(만원)\",\n",
    "        동,\n",
    "        층,\n",
    "        매수자,\n",
    "        매도자,\n",
    "        CAST(NULL AS VARCHAR) AS 지분구분,\n",
    "        건축년도,\n",
    "        해제사유발생일,\n",
    "        거래유형,\n",
    "        중개사소재지,\n",
    "        등기일자,\n",
    "    FROM read_csv('{sale_files[\"apart\"]}', header=true, all_varchar=true)\n",
    "\"\"\")\n",
    "apart"
   ]
  },
  {
   "cell_type": "code",
   "execution_count": 32,
   "id": "30ec0cf2",
   "metadata": {},
   "outputs": [
    {
     "data": {
      "text/plain": [
       "┌─────────────────┬─────────────┬────────────────────────────────────┬─────────┬──────────┬─────────┬─────────┬─────────┬────────────────┬─────────────┬───────────────┬───────────────┬──────────┬─────────────────┬──────────────┬──────────┬─────────┬────────────────┬─────────┬─────────┬─────────┬─────────┬──────────┬──────────┬────────────────┬──────────┬──────────────┬──────────┐\n",
       "│       NO        │    type     │               시군구               │  유형   │ 주택유형 │  번지   │  본번   │  부번   │     도로명     │ 단지/건물명 │   용도지역    │ 건축물주용도  │ 도로조건 │ 전용/연면적(㎡) │ 대지면적(㎡) │ 계약년월 │ 계약일  │ 거래금액(만원) │   동    │   층    │ 매수자  │ 매도자  │ 지분구분 │ 건축년도 │ 해제사유발생일 │ 거래유형 │ 중개사소재지 │ 등기일자 │\n",
       "│     varchar     │   varchar   │              varchar               │ varchar │ varchar  │ varchar │ varchar │ varchar │    varchar     │   varchar   │    varchar    │    varchar    │ varchar  │     varchar     │   varchar    │ varchar  │ varchar │    varchar     │ varchar │ varchar │ varchar │ varchar │ varchar  │ varchar  │    varchar     │ varchar  │   varchar    │ varchar  │\n",
       "├─────────────────┼─────────────┼────────────────────────────────────┼─────────┼──────────┼─────────┼─────────┼─────────┼────────────────┼─────────────┼───────────────┼───────────────┼──────────┼─────────────────┼──────────────┼──────────┼─────────┼────────────────┼─────────┼─────────┼─────────┼─────────┼──────────┼──────────┼────────────────┼──────────┼──────────────┼──────────┤\n",
       "│ 상업/업무용1    │ 상업/업무용 │ 경상남도 진주시 충무공동           │ 집합    │ NULL     │ 2**     │ NULL    │ NULL    │ 충의로         │ NULL        │ 준주거        │ 업무          │ 25m미만  │ 47.70           │              │ 202001   │ 31      │ 8,521          │ NULL    │ 4       │ NULL    │ NULL    │          │ 2016     │ NULL           │ NULL     │ NULL         │ NULL     │\n",
       "│ 상업/업무용2    │ 상업/업무용 │ 전북특별자치도 김제시 흥사동       │ 일반    │ NULL     │ 4**     │ NULL    │ NULL    │ 하정1길        │ NULL        │ 계획관리      │ 숙박          │ 8m미만   │ 658.80          │ 1294.00      │ 202001   │ 31      │ 30,000         │ NULL    │ NULL    │ NULL    │ NULL    │          │ 2006     │ NULL           │ NULL     │ NULL         │ NULL     │\n",
       "│ 상업/업무용3    │ 상업/업무용 │ 부산광역시 기장군 일광읍 화전리    │ 일반    │ NULL     │ 2**     │ NULL    │ NULL    │ 화용길         │ NULL        │ 자연녹지      │ 제2종근린생활 │ 12m미만  │ 491.90          │ 913.00       │ 202001   │ 31      │ 93,030         │ NULL    │ NULL    │ NULL    │ NULL    │          │ 2012     │ NULL           │ NULL     │ NULL         │ NULL     │\n",
       "│ 상업/업무용4    │ 상업/업무용 │ 서울특별시 마포구 아현동           │ 일반    │ NULL     │ 3**     │ NULL    │ NULL    │ 신촌로34길     │ NULL        │ 준주거        │ 제1종근린생활 │ 12m미만  │ 231.64          │ 96.90        │ 202001   │ 31      │ 184,000        │ NULL    │ NULL    │ NULL    │ NULL    │          │ 1991     │ NULL           │ NULL     │ NULL         │ NULL     │\n",
       "│ 상업/업무용5    │ 상업/업무용 │ 부산광역시 기장군 기장읍 시랑리    │ 집합    │ NULL     │ 7**     │ NULL    │ NULL    │ 기장해안로     │ NULL        │ 제3종일반주거 │ 숙박          │ 25m미만  │ 211.68          │              │ 202001   │ 31      │ 13,500         │ NULL    │ NULL    │ NULL    │ NULL    │ 지분     │ NULL     │ NULL           │ NULL     │ NULL         │ NULL     │\n",
       "│ 상업/업무용6    │ 상업/업무용 │ 서울특별시 성북구 석관동           │ 일반    │ NULL     │ 2**     │ NULL    │ NULL    │ 돌곶이로17길   │ NULL        │ 제2종일반주거 │ 제1종근린생활 │ 12m미만  │ 70.58           │ 148.82       │ 202001   │ 31      │ 72,000         │ NULL    │ NULL    │ NULL    │ NULL    │          │ 1985     │ NULL           │ NULL     │ NULL         │ NULL     │\n",
       "│ 상업/업무용7    │ 상업/업무용 │ 경상북도 예천군 호명읍 산합리      │ 집합    │ NULL     │ 1***    │ NULL    │ NULL    │ 새움3로        │ NULL        │ 일반상업      │ 제1종근린생활 │ 25m이상  │ 132.61          │              │ 202001   │ 31      │ 42,800         │ NULL    │ 6       │ NULL    │ NULL    │          │ 2017     │ NULL           │ NULL     │ NULL         │ NULL     │\n",
       "│ 상업/업무용8    │ 상업/업무용 │ 경상북도 예천군 호명읍 산합리      │ 집합    │ NULL     │ 1***    │ NULL    │ NULL    │ 새움3로        │ NULL        │ 일반상업      │ 제1종근린생활 │ 25m이상  │ 138.88          │              │ 202001   │ 31      │ 43,870         │ NULL    │ 6       │ NULL    │ NULL    │          │ 2017     │ NULL           │ NULL     │ NULL         │ NULL     │\n",
       "│ 상업/업무용9    │ 상업/업무용 │ 경기도 용인시 기흥구 구갈동        │ 일반    │ NULL     │ 5**     │ NULL    │ NULL    │ 구갈로         │ NULL        │ 준주거        │ 제1종근린생활 │ 25m미만  │ 267.03          │ 176.53       │ 202001   │ 31      │ 95,000         │ NULL    │ NULL    │ NULL    │ NULL    │ 지분     │ 1993     │ NULL           │ NULL     │ NULL         │ NULL     │\n",
       "│ 상업/업무용10   │ 상업/업무용 │ 경기도 용인시 기흥구 구갈동        │ 일반    │ NULL     │ 5**     │ NULL    │ NULL    │ 강남서로57번길 │ NULL        │ 제2종일반주거 │ 제2종근린생활 │ 25m미만  │ 663.22          │ 332.80       │ 202001   │ 31      │ 158,000        │ NULL    │ NULL    │ NULL    │ NULL    │          │ 2007     │ NULL           │ NULL     │ NULL         │ NULL     │\n",
       "│       ·         │      ·      │              ·                     │  ·      │  ·       │ ·       │  ·      │  ·      │     ·          │  ·          │    ·          │       ·       │    ·     │   ·             │   ·          │   ·      │ ·       │    ·           │  ·      │  ·      │  ·      │  ·      │    ·     │  ·       │  ·             │  ·       │  ·           │  ·       │\n",
       "│       ·         │      ·      │              ·                     │  ·      │  ·       │ ·       │  ·      │  ·      │     ·          │  ·          │    ·          │       ·       │    ·     │   ·             │   ·          │   ·      │ ·       │    ·           │  ·      │  ·      │  ·      │  ·      │    ·     │  ·       │  ·             │  ·       │  ·           │  ·       │\n",
       "│       ·         │      ·      │              ·                     │  ·      │  ·       │ ·       │  ·      │  ·      │     ·          │  ·          │    ·          │       ·       │    ·     │   ·             │   ·          │   ·      │ ·       │    ·           │  ·      │  ·      │  ·      │  ·      │    ·     │  ·       │  ·             │  ·       │  ·           │  ·       │\n",
       "│ 상업/업무용4285 │ 상업/업무용 │ 서울특별시 영등포구 영등포동3가    │ 일반    │ NULL     │ *       │ NULL    │ NULL    │ 영중로10길     │ NULL        │ 일반상업      │ 제2종근린생활 │ 12m미만  │ 374.00          │ 321.00       │ 202002   │ 11      │ 679,000        │ NULL    │ NULL    │ NULL    │ NULL    │          │ 1970     │ NULL           │ NULL     │ NULL         │ NULL     │\n",
       "│ 상업/업무용4286 │ 상업/업무용 │ 경기도 용인시 처인구 모현읍 갈담리 │ 일반    │ NULL     │ 2**     │ NULL    │ NULL    │ 갈월로         │ NULL        │ 자연녹지      │ 제2종근린생활 │ 8m미만   │ 150.00          │ 753.00       │ 202002   │ 11      │ 67,000         │ NULL    │ NULL    │ NULL    │ NULL    │          │ 2020     │ NULL           │ NULL     │ NULL         │ NULL     │\n",
       "│ 상업/업무용4287 │ 상업/업무용 │ 광주광역시 북구 신안동             │ 일반    │ NULL     │ 1**     │ NULL    │ NULL    │ 경양로         │ NULL        │ 일반상업      │ 제2종근린생활 │ 8m미만   │ 85.51           │ 214.90       │ 202002   │ 11      │ 17,650         │ NULL    │ NULL    │ NULL    │ NULL    │          │ 1974     │ NULL           │ NULL     │ NULL         │ NULL     │\n",
       "│ 상업/업무용4288 │ 상업/업무용 │ 경기도 포천시 군내면 직두리        │ 일반    │ NULL     │ 5**     │ NULL    │ NULL    │ 청군로         │ NULL        │ 계획관리      │ 제2종근린생활 │ 12m미만  │ 137.70          │ 206.50       │ 202002   │ 11      │ 12,500         │ NULL    │ NULL    │ NULL    │ NULL    │ 지분     │ 2009     │ NULL           │ NULL     │ NULL         │ NULL     │\n",
       "│ 상업/업무용4289 │ 상업/업무용 │ 광주광역시 북구 유동               │ 일반    │ NULL     │ 4*      │ NULL    │ NULL    │ 경열로181번길  │ NULL        │ 일반상업      │ 제1종근린생활 │ 8m미만   │ 621.15          │ 403.00       │ 202002   │ 11      │ 88,000         │ NULL    │ NULL    │ NULL    │ NULL    │          │ 1970     │ NULL           │ NULL     │ NULL         │ NULL     │\n",
       "│ 상업/업무용4290 │ 상업/업무용 │ 경기도 시흥시 과림동               │ 일반    │ NULL     │ 3**     │ NULL    │ NULL    │ 범안로539번길  │ NULL        │ 제1종일반주거 │ 제2종근린생활 │ 8m미만   │ 326.35          │ 429.00       │ 202002   │ 11      │ 106,430        │ NULL    │ NULL    │ NULL    │ NULL    │          │ 2005     │ NULL           │ NULL     │ NULL         │ NULL     │\n",
       "│ 상업/업무용4291 │ 상업/업무용 │ 경기도 포천시 가산면 우금리        │ 일반    │ NULL     │ 7**     │ NULL    │ NULL    │ 포천로         │ NULL        │ 보전관리      │ 제1종근린생활 │ 25m미만  │ 540.92          │ 3223.00      │ 202002   │ 11      │ 188,250        │ NULL    │ NULL    │ NULL    │ NULL    │          │ 2020     │ NULL           │ NULL     │ NULL         │ NULL     │\n",
       "│ 상업/업무용4292 │ 상업/업무용 │ 경기도 용인시 기흥구 보정동        │ 집합    │ NULL     │ 1***    │ NULL    │ NULL    │ 죽전로         │ NULL        │ 일반상업      │ 교육연구      │ 25m이상  │ 109.13          │              │ 202002   │ 11      │ 33,500         │ NULL    │ 7       │ NULL    │ NULL    │          │ 2005     │ NULL           │ NULL     │ NULL         │ NULL     │\n",
       "│ 상업/업무용4293 │ 상업/업무용 │ 서울특별시 성북구 정릉동           │ 집합    │ NULL     │ 4**     │ NULL    │ NULL    │ 보국문로10길   │ NULL        │ 제2종일반주거 │ 제2종근린생활 │ 8m미만   │ 19.78           │              │ 202002   │ 11      │ 5,500          │ NULL    │ 1       │ NULL    │ NULL    │          │ 2008     │ NULL           │ NULL     │ NULL         │ NULL     │\n",
       "│ 상업/업무용4294 │ 상업/업무용 │ 경기도 시흥시 장현동               │ 집합    │ NULL     │ 5**     │ NULL    │ NULL    │ 새재로         │ NULL        │ 일반상업      │ 제2종근린생활 │ 25m미만  │ 35.98           │              │ 202002   │ 11      │ 6,800          │ NULL    │ 1       │ NULL    │ NULL    │          │ 2004     │ NULL           │ NULL     │ NULL         │ NULL     │\n",
       "├─────────────────┴─────────────┴────────────────────────────────────┴─────────┴──────────┴─────────┴─────────┴─────────┴────────────────┴─────────────┴───────────────┴───────────────┴──────────┴─────────────────┴──────────────┴──────────┴─────────┴────────────────┴─────────┴─────────┴─────────┴─────────┴──────────┴──────────┴────────────────┴──────────┴──────────────┴──────────┤\n",
       "│ ? rows (>9999 rows, 20 shown)                                                                                                                                                                                                                                                                                                                                                   28 columns │\n",
       "└────────────────────────────────────────────────────────────────────────────────────────────────────────────────────────────────────────────────────────────────────────────────────────────────────────────────────────────────────────────────────────────────────────────────────────────────────────────────────────────────────────────────────────────────────────────────────────────┘"
      ]
     },
     "execution_count": 32,
     "metadata": {},
     "output_type": "execute_result"
    }
   ],
   "source": [
    "# commercial\n",
    "\n",
    "# read commercial csv\n",
    "commercial = con.sql(f\"\"\"\n",
    "    SELECT\n",
    "        CONCAT('상업/업무용', NO) AS NO,\n",
    "        '상업/업무용' AS type,\n",
    "        시군구,\n",
    "        유형,\n",
    "        CAST(NULL AS VARCHAR) AS 주택유형,\n",
    "        지번 AS 번지,\n",
    "        CAST(NULL AS VARCHAR) AS 본번,\n",
    "        CAST(NULL AS VARCHAR) AS 부번,\n",
    "        도로명,\n",
    "        CAST(NULL AS VARCHAR) AS \"단지/건물명\",\n",
    "        용도지역,\n",
    "        건축물주용도,\n",
    "        도로조건,\n",
    "        \"전용/연면적(㎡)\",\n",
    "        \"대지면적(㎡)\",\n",
    "        계약년월,\n",
    "        계약일,\n",
    "        \"거래금액(만원)\",\n",
    "        CAST(NULL AS VARCHAR) AS 동,\n",
    "        층,\n",
    "        매수 AS 매수자,\n",
    "        매도 AS 매도자,\n",
    "        지분구분,\n",
    "        건축년도,\n",
    "        해제사유발생일,\n",
    "        거래유형,\n",
    "        중개사소재지,\n",
    "        CAST(NULL AS VARCHAR) AS 등기일자,\n",
    "    FROM read_csv('{sale_files[\"commercial\"]}', header=true, all_varchar=true, force_not_null=['지분구분'])\n",
    "\"\"\")\n",
    "commercial"
   ]
  },
  {
   "cell_type": "code",
   "execution_count": 33,
   "id": "a2e8ca41",
   "metadata": {},
   "outputs": [
    {
     "data": {
      "text/plain": [
       "┌─────────────────┬──────────────┬─────────────────────────────────────┬─────────┬──────────┬─────────┬─────────┬─────────┬─────────────────┬─────────────┬───────────────┬───────────────────────┬──────────┬─────────────────┬──────────────┬──────────┬─────────┬────────────────┬─────────┬─────────┬─────────┬─────────┬──────────┬──────────┬────────────────┬──────────┬──────────────┬──────────┐\n",
       "│       NO        │     type     │               시군구                │  유형   │ 주택유형 │  번지   │  본번   │  부번   │     도로명      │ 단지/건물명 │   용도지역    │     건축물주용도      │ 도로조건 │ 전용/연면적(㎡) │ 대지면적(㎡) │ 계약년월 │ 계약일  │ 거래금액(만원) │   동    │   층    │ 매수자  │ 매도자  │ 지분구분 │ 건축년도 │ 해제사유발생일 │ 거래유형 │ 중개사소재지 │ 등기일자 │\n",
       "│     varchar     │   varchar    │               varchar               │ varchar │ varchar  │ varchar │ varchar │ varchar │     varchar     │   varchar   │    varchar    │        varchar        │ varchar  │     varchar     │   varchar    │ varchar  │ varchar │    varchar     │ varchar │ varchar │ varchar │ varchar │ varchar  │ varchar  │    varchar     │ varchar  │   varchar    │ varchar  │\n",
       "├─────────────────┼──────────────┼─────────────────────────────────────┼─────────┼──────────┼─────────┼─────────┼─────────┼─────────────────┼─────────────┼───────────────┼───────────────────────┼──────────┼─────────────────┼──────────────┼──────────┼─────────┼────────────────┼─────────┼─────────┼─────────┼─────────┼──────────┼──────────┼────────────────┼──────────┼──────────────┼──────────┤\n",
       "│ 공장/창고 등1   │ 공장/창고 등 │ 서울특별시 금천구 가산동            │ 집합    │ NULL     │ 3**     │ NULL    │ NULL    │ 가산디지털2로   │ NULL        │ 준공업        │ 공장                  │ 25m미만  │ 287.90          │              │ 202001   │ 31      │ 88,158         │ NULL    │ 9       │ NULL    │ NULL    │          │ NULL     │ NULL           │ NULL     │ NULL         │ NULL     │\n",
       "│ 공장/창고 등2   │ 공장/창고 등 │ 경상남도 김해시 생림면 봉림리       │ 일반    │ NULL     │ 9**     │ NULL    │ NULL    │ 생림대로950번길 │ NULL        │ 계획관리      │ 공장                  │ 8m미만   │ 462.00          │ 1756.00      │ 202001   │ 31      │ 88,900         │ NULL    │ NULL    │ NULL    │ NULL    │          │ NULL     │ NULL           │ NULL     │ NULL         │ NULL     │\n",
       "│ 공장/창고 등3   │ 공장/창고 등 │ 경기도 파주시 광탄면 방축리         │ 일반    │ NULL     │ 2**     │ NULL    │ NULL    │ 보광로          │ NULL        │ 계획관리      │ 공장                  │ 8m미만   │ 1354.35         │ 3915.00      │ 202001   │ 31      │ 170,112        │ NULL    │ NULL    │ NULL    │ NULL    │          │ NULL     │ NULL           │ NULL     │ NULL         │ NULL     │\n",
       "│ 공장/창고 등4   │ 공장/창고 등 │ 서울특별시 강서구 등촌동            │ 집합    │ NULL     │ 6**     │ NULL    │ NULL    │ 화곡로68길      │ NULL        │ 준공업        │ 공장                  │ 25m이상  │ 92.74           │              │ 202001   │ 31      │ 55,000         │ NULL    │ 6       │ NULL    │ NULL    │          │ 2018     │ NULL           │ NULL     │ NULL         │ NULL     │\n",
       "│ 공장/창고 등5   │ 공장/창고 등 │ 경기도 부천시 원미구 상동           │ 집합    │ NULL     │ 5**     │ NULL    │ NULL    │ 송내대로        │ NULL        │ 일반상업      │ 운수시설              │ 25m이상  │ 11.20           │              │ 202001   │ 31      │ 5,440          │ NULL    │ 53      │ NULL    │ NULL    │          │ 2007     │ NULL           │ NULL     │ NULL         │ NULL     │\n",
       "│ 공장/창고 등6   │ 공장/창고 등 │ 경기도 파주시 오도동                │ 일반    │ NULL     │ 2*      │ NULL    │ NULL    │ 장명산길        │ NULL        │ 계획관리      │ 공장                  │ 8m미만   │ 728.00          │ 3370.00      │ 202001   │ 31      │ 236,000        │ NULL    │ NULL    │ NULL    │ NULL    │          │ 2016     │ NULL           │ NULL     │ NULL         │ NULL     │\n",
       "│ 공장/창고 등7   │ 공장/창고 등 │ 부산광역시 북구 덕천동              │ 일반    │ NULL     │ 3**     │ NULL    │ NULL    │ 금곡대로13번길  │ NULL        │ 일반상업      │ 자동차 관련시설       │ 25m미만  │ 54.00           │ 195.60       │ 202001   │ 31      │ 100,000        │ NULL    │ NULL    │ NULL    │ NULL    │          │ 2003     │ NULL           │ NULL     │ NULL         │ NULL     │\n",
       "│ 공장/창고 등8   │ 공장/창고 등 │ 경상남도 김해시 진례면 고모리       │ 일반    │ NULL     │ 3**     │ NULL    │ NULL    │ NULL            │ NULL        │ 계획관리      │ 공장                  │ 8m미만   │ 963.15          │ 1724.00      │ 202001   │ 31      │ 95,000         │ NULL    │ NULL    │ NULL    │ NULL    │          │ NULL     │ NULL           │ NULL     │ NULL         │ NULL     │\n",
       "│ 공장/창고 등9   │ 공장/창고 등 │ 경기도 성남시 중원구 상대원동       │ 집합    │ NULL     │ 3**     │ NULL    │ NULL    │ 둔촌대로457번길 │ NULL        │ 일반공업      │ 공장                  │ 25m이상  │ 134.40          │              │ 202001   │ 31      │ 30,500         │ NULL    │ 10      │ NULL    │ NULL    │          │ NULL     │ NULL           │ NULL     │ NULL         │ NULL     │\n",
       "│ 공장/창고 등10  │ 공장/창고 등 │ 서울특별시 송파구 문정동            │ 집합    │ NULL     │ 6**     │ NULL    │ NULL    │ 충민로          │ NULL        │ 유통상업      │ 창고시설              │ 25m이상  │ 22.26           │              │ 202001   │ 31      │ 9,100          │ NULL    │ NULL    │ NULL    │ NULL    │          │ NULL     │ NULL           │ NULL     │ NULL         │ NULL     │\n",
       "│       ·         │      ·       │            ·                        │  ·      │  ·       │  ·      │  ·      │  ·      │  ·              │  ·          │  ·            │    ·                  │   ·      │   ·             │ ·            │   ·      │ ·       │   ·            │  ·      │  ·      │  ·      │  ·      │  ·       │  ·       │  ·             │  ·       │  ·           │  ·       │\n",
       "│       ·         │      ·       │            ·                        │  ·      │  ·       │  ·      │  ·      │  ·      │  ·              │  ·          │  ·            │    ·                  │   ·      │   ·             │ ·            │   ·      │ ·       │   ·            │  ·      │  ·      │  ·      │  ·      │  ·       │  ·       │  ·             │  ·       │  ·           │  ·       │\n",
       "│       ·         │      ·       │            ·                        │  ·      │  ·       │  ·      │  ·      │  ·      │  ·              │  ·          │  ·            │    ·                  │   ·      │   ·             │ ·            │   ·      │ ·       │   ·            │  ·      │  ·      │  ·      │  ·      │  ·       │  ·       │  ·             │  ·       │  ·           │  ·       │\n",
       "│ 공장/창고 등773 │ 공장/창고 등 │ 대구광역시 군위군 의흥면 이지리     │ 일반    │ NULL     │ 2**     │ NULL    │ NULL    │ NULL            │ NULL        │ 농림          │ 동물 및 식물 관련시설 │ 8m미만   │ 329.40          │ 700.50       │ 202008   │ 13      │ 8,500          │ NULL    │ NULL    │ NULL    │ NULL    │ 지분     │ 2001     │ NULL           │ NULL     │ NULL         │ NULL     │\n",
       "│ 공장/창고 등774 │ 공장/창고 등 │ 경기도 수원시 권선구 평동           │ 집합    │ NULL     │ 1**     │ NULL    │ NULL    │ 평동로79번길    │ NULL        │ 일반상업      │ 자동차 관련시설       │ NULL     │ 311.58          │              │ 202008   │ 13      │ 70,250         │ NULL    │ 3       │ NULL    │ NULL    │          │ 2019     │ NULL           │ NULL     │ NULL         │ NULL     │\n",
       "│ 공장/창고 등775 │ 공장/창고 등 │ 강원특별자치도 원주시 단구동        │ 일반    │ NULL     │ 1***    │ NULL    │ NULL    │ 단구로          │ NULL        │ 준주거        │ 자동차 관련시설       │ 25m미만  │ 37.39           │ 15.64        │ 202008   │ 13      │ 1,000          │ NULL    │ NULL    │ NULL    │ NULL    │ 지분     │ 2005     │ NULL           │ NULL     │ NULL         │ NULL     │\n",
       "│ 공장/창고 등776 │ 공장/창고 등 │ 강원특별자치도 원주시 우산동        │ 일반    │ NULL     │ 5**     │ NULL    │ NULL    │ 우두산길        │ NULL        │ 일반공업      │ 자원순환 관련시설     │ 12m미만  │ 122.88          │ 2178.00      │ 202008   │ 12      │ 57,289         │ NULL    │ NULL    │ NULL    │ NULL    │          │ 1999     │ NULL           │ NULL     │ NULL         │ NULL     │\n",
       "│ 공장/창고 등777 │ 공장/창고 등 │ 강원특별자치도 원주시 우산동        │ 일반    │ NULL     │ 4**     │ NULL    │ NULL    │ 우두산길        │ NULL        │ 일반공업      │ 공장                  │ 12m미만  │ 2838.97         │ 3384.00      │ 202008   │ 12      │ 148,016        │ NULL    │ NULL    │ NULL    │ NULL    │          │ 1991     │ NULL           │ NULL     │ NULL         │ NULL     │\n",
       "│ 공장/창고 등778 │ 공장/창고 등 │ 전북특별자치도 정읍시 덕천면 도계리 │ 일반    │ NULL     │ 9**     │ NULL    │ NULL    │ 금계1길         │ NULL        │ 생산관리      │ 창고시설              │ 12m미만  │ 10.83           │ 72.44        │ 202008   │ 12      │ 500            │ NULL    │ NULL    │ NULL    │ NULL    │ 지분     │ 2013     │ NULL           │ NULL     │ NULL         │ NULL     │\n",
       "│ 공장/창고 등779 │ 공장/창고 등 │ 경상북도 김천시 지좌동              │ 일반    │ NULL     │ 4**     │ NULL    │ NULL    │ NULL            │ NULL        │ 제2종일반주거 │ 창고시설              │ 8m미만   │ 24.00           │ 112.00       │ 202008   │ 12      │ 700            │ NULL    │ NULL    │ NULL    │ NULL    │          │ 1994     │ NULL           │ NULL     │ NULL         │ NULL     │\n",
       "│ 공장/창고 등780 │ 공장/창고 등 │ 충청북도 충주시 신니면 용원리       │ 일반    │ NULL     │ 2**     │ NULL    │ NULL    │ 하랭이길        │ NULL        │ 계획관리      │ 공장                  │ 8m미만   │ 3828.86         │ 11955.00     │ 202008   │ 12      │ 380,000        │ NULL    │ NULL    │ NULL    │ NULL    │          │ 2012     │ NULL           │ NULL     │ NULL         │ NULL     │\n",
       "│ 공장/창고 등781 │ 공장/창고 등 │ 서울특별시 송파구 문정동            │ 집합    │ NULL     │ 6**     │ NULL    │ NULL    │ 법원로          │ NULL        │ 일반상업      │ 공장                  │ NULL     │ 121.20          │              │ 202008   │ 12      │ 110,000        │ NULL    │ 2       │ NULL    │ NULL    │          │ 2017     │ NULL           │ NULL     │ NULL         │ NULL     │\n",
       "│ 공장/창고 등782 │ 공장/창고 등 │ 경기도 의왕시 포일동                │ 집합    │ NULL     │ 6**     │ NULL    │ NULL    │ 성고개로        │ NULL        │ 준주거        │ 공장                  │ 25m미만  │ 92.75           │              │ 202008   │ 12      │ 37,700         │ NULL    │ NULL    │ NULL    │ NULL    │          │ NULL     │ 20200901       │ NULL     │ NULL         │ NULL     │\n",
       "├─────────────────┴──────────────┴─────────────────────────────────────┴─────────┴──────────┴─────────┴─────────┴─────────┴─────────────────┴─────────────┴───────────────┴───────────────────────┴──────────┴─────────────────┴──────────────┴──────────┴─────────┴────────────────┴─────────┴─────────┴─────────┴─────────┴──────────┴──────────┴────────────────┴──────────┴──────────────┴──────────┤\n",
       "│ ? rows (>9999 rows, 20 shown)                                                                                                                                                                                                                                                                                                                                                              28 columns │\n",
       "└───────────────────────────────────────────────────────────────────────────────────────────────────────────────────────────────────────────────────────────────────────────────────────────────────────────────────────────────────────────────────────────────────────────────────────────────────────────────────────────────────────────────────────────────────────────────────────────────────────┘"
      ]
     },
     "execution_count": 33,
     "metadata": {},
     "output_type": "execute_result"
    }
   ],
   "source": [
    "# factory\n",
    "\n",
    "# read factory csv\n",
    "factory = con.sql(f\"\"\"\n",
    "    SELECT\n",
    "        CONCAT('공장/창고 등', NO) AS NO,\n",
    "        '공장/창고 등' AS type,\n",
    "        시군구,\n",
    "        유형,\n",
    "        CAST(NULL AS VARCHAR) AS 주택유형,\n",
    "        지번 AS 번지,\n",
    "        CAST(NULL AS VARCHAR) AS 본번,\n",
    "        CAST(NULL AS VARCHAR) AS 부번,\n",
    "        도로명,\n",
    "        CAST(NULL AS VARCHAR) AS \"단지/건물명\",\n",
    "        용도지역,\n",
    "        건축물주용도,\n",
    "        도로조건,\n",
    "        \"전용/연면적(㎡)\",\n",
    "        \"대지면적(㎡)\",\n",
    "        계약년월,\n",
    "        계약일,\n",
    "        \"거래금액(만원)\",\n",
    "        CAST(NULL AS VARCHAR) AS 동,\n",
    "        층,\n",
    "        매수 AS 매수자,\n",
    "        매도 AS 매도자,\n",
    "        지분구분,\n",
    "        건축년도,\n",
    "        해제사유발생일,\n",
    "        거래유형,\n",
    "        중개사소재지,\n",
    "        CAST(NULL AS VARCHAR) AS 등기일자,\n",
    "    FROM read_csv('{sale_files[\"factory\"]}', header=true, all_varchar=true, force_not_null=['지분구분'])\n",
    "\"\"\")\n",
    "factory"
   ]
  },
  {
   "cell_type": "code",
   "execution_count": 36,
   "id": "474c8e17",
   "metadata": {},
   "outputs": [
    {
     "data": {
      "text/plain": [
       "┌─────────────────┬─────────────┬───────────────────────────────────────────┬─────────┬──────────┬─────────┬─────────┬─────────┬──────────────────┬─────────────┬──────────┬──────────────┬──────────┬─────────────────┬──────────────┬──────────┬─────────┬────────────────┬─────────┬─────────┬─────────┬─────────┬──────────┬──────────┬────────────────┬──────────┬──────────────┬──────────┐\n",
       "│       NO        │    type     │                  시군구                   │  유형   │ 주택유형 │  번지   │  본번   │  부번   │      도로명      │ 단지/건물명 │ 용도지역 │ 건축물주용도 │ 도로조건 │ 전용/연면적(㎡) │ 대지면적(㎡) │ 계약년월 │ 계약일  │ 거래금액(만원) │   동    │   층    │ 매수자  │ 매도자  │ 지분구분 │ 건축년도 │ 해제사유발생일 │ 거래유형 │ 중개사소재지 │ 등기일자 │\n",
       "│     varchar     │   varchar   │                  varchar                  │ varchar │ varchar  │ varchar │ varchar │ varchar │     varchar      │   varchar   │ varchar  │   varchar    │ varchar  │     varchar     │   varchar    │ varchar  │ varchar │    varchar     │ varchar │ varchar │ varchar │ varchar │ varchar  │ varchar  │    varchar     │ varchar  │   varchar    │ varchar  │\n",
       "├─────────────────┼─────────────┼───────────────────────────────────────────┼─────────┼──────────┼─────────┼─────────┼─────────┼──────────────────┼─────────────┼──────────┼──────────────┼──────────┼─────────────────┼──────────────┼──────────┼─────────┼────────────────┼─────────┼─────────┼─────────┼─────────┼──────────┼──────────┼────────────────┼──────────┼──────────────┼──────────┤\n",
       "│ 단독/다가구1    │ 단독/다가구 │ 강원특별자치도 춘천시 서면 현암리         │ NULL    │ 단독     │ 4**     │ NULL    │ NULL    │ 유천길           │ NULL        │ NULL     │ NULL         │ 8m미만   │ 38.25           │ 108.00       │ 202001   │ 31      │ 6,700          │ NULL    │ NULL    │ NULL    │ NULL    │ NULL     │ 2013     │ NULL           │ NULL     │ NULL         │ NULL     │\n",
       "│ 단독/다가구2    │ 단독/다가구 │ 충청남도 아산시 신창면 오목리             │ NULL    │ 단독     │ *       │ NULL    │ NULL    │ 서부북로         │ NULL        │ NULL     │ NULL         │ 12m미만  │ 290.89          │ 843.00       │ 202001   │ 31      │ 16,735         │ NULL    │ NULL    │ NULL    │ NULL    │ NULL     │ 1934     │ NULL           │ NULL     │ NULL         │ NULL     │\n",
       "│ 단독/다가구3    │ 단독/다가구 │ 충청북도 충주시 교현동                    │ NULL    │ 단독     │ 4**     │ NULL    │ NULL    │ 월촌1길          │ NULL        │ NULL     │ NULL         │ 8m미만   │ 84.72           │ 161.00       │ 202001   │ 31      │ 10,500         │ NULL    │ NULL    │ NULL    │ NULL    │ NULL     │ 2009     │ NULL           │ NULL     │ NULL         │ NULL     │\n",
       "│ 단독/다가구4    │ 단독/다가구 │ 강원특별자치도 양구군 국토정중앙면 용하리 │ NULL    │ 단독     │ 3**     │ NULL    │ NULL    │ 정중앙로663번길  │ NULL        │ NULL     │ NULL         │ 8m미만   │ 81.84           │ 621.00       │ 202001   │ 31      │ 5,600          │ NULL    │ NULL    │ NULL    │ NULL    │ NULL     │ 1993     │ NULL           │ NULL     │ NULL         │ NULL     │\n",
       "│ 단독/다가구5    │ 단독/다가구 │ 전북특별자치도 군산시 송풍동              │ NULL    │ 단독     │ 9**     │ NULL    │ NULL    │ 신풍2길          │ NULL        │ NULL     │ NULL         │ 12m미만  │ 54.40           │ 85.00        │ 202001   │ 31      │ 2,700          │ NULL    │ NULL    │ NULL    │ NULL    │ NULL     │ 1970     │ NULL           │ NULL     │ NULL         │ NULL     │\n",
       "│ 단독/다가구6    │ 단독/다가구 │ 전라남도 영광군 군남면 설매리             │ NULL    │ 단독     │ 3**     │ NULL    │ NULL    │ 천년로5길        │ NULL        │ NULL     │ NULL         │ 8m미만   │ 26.40           │ 516.00       │ 202001   │ 31      │ 1,000          │ NULL    │ NULL    │ NULL    │ NULL    │ NULL     │ 1956     │ NULL           │ NULL     │ NULL         │ NULL     │\n",
       "│ 단독/다가구7    │ 단독/다가구 │ 경기도 수원시 권선구 고색동               │ NULL    │ 다가구   │ 2**     │ NULL    │ NULL    │ 고현로5번길      │ NULL        │ NULL     │ NULL         │ 8m미만   │ 440.17          │ 264.00       │ 202001   │ 31      │ 115,000        │ NULL    │ NULL    │ NULL    │ NULL    │ NULL     │ 2018     │ NULL           │ NULL     │ NULL         │ NULL     │\n",
       "│ 단독/다가구8    │ 단독/다가구 │ 경기도 부천시 원미구 심곡동               │ NULL    │ 단독     │ 3**     │ NULL    │ NULL    │ 부일로391번길    │ NULL        │ NULL     │ NULL         │ 12m미만  │ 254.67          │ 149.00       │ 202001   │ 31      │ 56,000         │ NULL    │ NULL    │ NULL    │ NULL    │ NULL     │ 1989     │ NULL           │ NULL     │ NULL         │ NULL     │\n",
       "│ 단독/다가구9    │ 단독/다가구 │ 경기도 부천시 원미구 심곡동               │ NULL    │ 다가구   │ 4**     │ NULL    │ NULL    │ 원미로18번길     │ NULL        │ NULL     │ NULL         │ 8m미만   │ 215.52          │ 136.00       │ 202001   │ 31      │ 54,000         │ NULL    │ NULL    │ NULL    │ NULL    │ NULL     │ 1987     │ NULL           │ NULL     │ NULL         │ NULL     │\n",
       "│ 단독/다가구10   │ 단독/다가구 │ 경기도 파주시 월롱면 덕은리               │ NULL    │ 단독     │ 9*      │ NULL    │ NULL    │ 휴암로79번길     │ NULL        │ NULL     │ NULL         │ NULL     │ 405.68          │ 788.00       │ 202001   │ 31      │ 23,800         │ NULL    │ NULL    │ NULL    │ NULL    │ NULL     │ 1984     │ NULL           │ NULL     │ NULL         │ NULL     │\n",
       "│       ·         │      ·      │              ·                            │  ·      │  ·       │ ·       │  ·      │  ·      │   ·              │  ·          │  ·       │  ·           │  ·       │   ·             │   ·          │   ·      │ ·       │   ·            │  ·      │  ·      │  ·      │  ·      │  ·       │  ·       │  ·             │  ·       │  ·           │  ·       │\n",
       "│       ·         │      ·      │              ·                            │  ·      │  ·       │ ·       │  ·      │  ·      │   ·              │  ·          │  ·       │  ·           │  ·       │   ·             │   ·          │   ·      │ ·       │   ·            │  ·      │  ·      │  ·      │  ·      │  ·       │  ·       │  ·             │  ·       │  ·           │  ·       │\n",
       "│       ·         │      ·      │              ·                            │  ·      │  ·       │ ·       │  ·      │  ·      │   ·              │  ·          │  ·       │  ·           │  ·       │   ·             │   ·          │   ·      │ ·       │   ·            │  ·      │  ·      │  ·      │  ·      │  ·       │  ·       │  ·             │  ·       │  ·           │  ·       │\n",
       "│ 단독/다가구3671 │ 단독/다가구 │ 강원특별자치도 춘천시 남산면 백양리       │ NULL    │ 다가구   │ 3**     │ NULL    │ NULL    │ 서백길           │ NULL        │ NULL     │ NULL         │ 8m미만   │ 254.45          │ 883.00       │ 202002   │ 17      │ 26,300         │ NULL    │ NULL    │ NULL    │ NULL    │ NULL     │ 2013     │ NULL           │ NULL     │ NULL         │ NULL     │\n",
       "│ 단독/다가구3672 │ 단독/다가구 │ 서울특별시 금천구 시흥동                  │ NULL    │ 다가구   │ 8**     │ NULL    │ NULL    │ 금하로9길        │ NULL        │ NULL     │ NULL         │ 8m미만   │ 188.91          │ 134.05       │ 202002   │ 17      │ 60,000         │ NULL    │ NULL    │ NULL    │ NULL    │ NULL     │ 1983     │ NULL           │ NULL     │ NULL         │ NULL     │\n",
       "│ 단독/다가구3673 │ 단독/다가구 │ 서울특별시 금천구 시흥동                  │ NULL    │ 다가구   │ 8**     │ NULL    │ NULL    │ 금하로23나길     │ NULL        │ NULL     │ NULL         │ 8m미만   │ 166.86          │ 111.90       │ 202002   │ 17      │ 70,000         │ NULL    │ NULL    │ NULL    │ NULL    │ NULL     │ 1990     │ NULL           │ NULL     │ NULL         │ NULL     │\n",
       "│ 단독/다가구3674 │ 단독/다가구 │ 부산광역시 수영구 망미동                  │ NULL    │ 단독     │ 8**     │ NULL    │ NULL    │ 망미로28번길     │ NULL        │ NULL     │ NULL         │ 12m미만  │ 406.90          │ 132.90       │ 202002   │ 17      │ 70,000         │ NULL    │ NULL    │ NULL    │ NULL    │ NULL     │ 1991     │ NULL           │ NULL     │ NULL         │ NULL     │\n",
       "│ 단독/다가구3675 │ 단독/다가구 │ 부산광역시 수영구 망미동                  │ NULL    │ 단독     │ 5**     │ NULL    │ NULL    │ 망미배산로36번길 │ NULL        │ NULL     │ NULL         │ 8m미만   │ 66.12           │ 111.40       │ 202002   │ 17      │ 21,000         │ NULL    │ NULL    │ NULL    │ NULL    │ NULL     │ 1974     │ NULL           │ NULL     │ NULL         │ NULL     │\n",
       "│ 단독/다가구3676 │ 단독/다가구 │ 경기도 동두천시 동두천동                  │ NULL    │ 단독     │ 1*      │ NULL    │ NULL    │ 안창말로46번길   │ NULL        │ NULL     │ NULL         │ 8m미만   │ 175.14          │ 492.00       │ 202002   │ 17      │ 36,778         │ NULL    │ NULL    │ NULL    │ NULL    │ NULL     │ 2019     │ NULL           │ NULL     │ NULL         │ NULL     │\n",
       "│ 단독/다가구3677 │ 단독/다가구 │ 서울특별시 도봉구 방학동                  │ NULL    │ 다가구   │ 6**     │ NULL    │ NULL    │ 도당로13라길     │ NULL        │ NULL     │ NULL         │ 8m미만   │ 220.80          │ 120.70       │ 202002   │ 17      │ 54,750         │ NULL    │ NULL    │ NULL    │ NULL    │ NULL     │ 1994     │ NULL           │ NULL     │ NULL         │ NULL     │\n",
       "│ 단독/다가구3678 │ 단독/다가구 │ 서울특별시 도봉구 방학동                  │ NULL    │ 다가구   │ 6**     │ NULL    │ NULL    │ 도당로13라길     │ NULL        │ NULL     │ NULL         │ 8m미만   │ 199.26          │ 120.40       │ 202002   │ 17      │ 47,400         │ NULL    │ NULL    │ NULL    │ NULL    │ NULL     │ 1991     │ NULL           │ NULL     │ NULL         │ NULL     │\n",
       "│ 단독/다가구3679 │ 단독/다가구 │ 대구광역시 달서구 송현동                  │ NULL    │ 다가구   │ 7**     │ NULL    │ NULL    │ 월배로72길       │ NULL        │ NULL     │ NULL         │ 12m미만  │ 359.70          │ 212.00       │ 202002   │ 17      │ 57,000         │ NULL    │ NULL    │ NULL    │ NULL    │ NULL     │ 2006     │ NULL           │ NULL     │ NULL         │ NULL     │\n",
       "│ 단독/다가구3680 │ 단독/다가구 │ 인천광역시 부평구 십정동                  │ NULL    │ 단독     │ 5**     │ NULL    │ NULL    │ 마장로25번길     │ NULL        │ NULL     │ NULL         │ 8m미만   │ 289.06          │ 194.10       │ 202002   │ 17      │ 44,000         │ NULL    │ NULL    │ NULL    │ NULL    │ NULL     │ 1989     │ NULL           │ NULL     │ NULL         │ NULL     │\n",
       "├─────────────────┴─────────────┴───────────────────────────────────────────┴─────────┴──────────┴─────────┴─────────┴─────────┴──────────────────┴─────────────┴──────────┴──────────────┴──────────┴─────────────────┴──────────────┴──────────┴─────────┴────────────────┴─────────┴─────────┴─────────┴─────────┴──────────┴──────────┴────────────────┴──────────┴──────────────┴──────────┤\n",
       "│ ? rows (>9999 rows, 20 shown)                                                                                                                                                                                                                                                                                                                                                      28 columns │\n",
       "└───────────────────────────────────────────────────────────────────────────────────────────────────────────────────────────────────────────────────────────────────────────────────────────────────────────────────────────────────────────────────────────────────────────────────────────────────────────────────────────────────────────────────────────────────────────────────────────────┘"
      ]
     },
     "execution_count": 36,
     "metadata": {},
     "output_type": "execute_result"
    }
   ],
   "source": [
    "realtx_master = con.sql(\"\"\"\n",
    "SELECT * FROM detached\n",
    "UNION ALL\n",
    "SELECT * FROM officetel\n",
    "UNION ALL\n",
    "SELECT * FROM multifamily\n",
    "UNION ALL\n",
    "SELECT * FROM apart\n",
    "UNION ALL\n",
    "SELECT * FROM commercial\n",
    "UNION ALL\n",
    "SELECT * FROM factory;\n",
    "\"\"\")\n",
    "realtx_master"
   ]
  },
  {
   "cell_type": "markdown",
   "id": "f82ba1fa",
   "metadata": {},
   "source": [
    "### 엑셀에 저장\n",
    "\n",
    "xlsx 파일은 1백만행 제한이 있음. 여러 파일로 나누어 저장"
   ]
  },
  {
   "cell_type": "code",
   "execution_count": 37,
   "id": "88ecca2e",
   "metadata": {},
   "outputs": [
    {
     "name": "stdout",
     "output_type": "stream",
     "text": [
      "Saved C:\\Users\\USER\\Documents\\quacklytics\\data\\실거래가\\processed\\realtx_part_1.xlsx\n",
      "Saved C:\\Users\\USER\\Documents\\quacklytics\\data\\실거래가\\processed\\realtx_part_2.xlsx\n",
      "Saved C:\\Users\\USER\\Documents\\quacklytics\\data\\실거래가\\processed\\realtx_part_3.xlsx\n",
      "Saved C:\\Users\\USER\\Documents\\quacklytics\\data\\실거래가\\processed\\realtx_part_4.xlsx\n",
      "Saved C:\\Users\\USER\\Documents\\quacklytics\\data\\실거래가\\processed\\realtx_part_5.xlsx\n"
     ]
    }
   ],
   "source": [
    "output_to = Path().resolve().parent / \"data/실거래가/processed\"\n",
    "output_to.mkdir(parents=True, exist_ok=True)\n",
    "\n",
    "MAX_ROWS = 1_048_576 - 1  # considering header\n",
    "table_name = \"realtx_master\"\n",
    "output_prefix = \"realtx_part\"\n",
    "\n",
    "# 전체 row 수 확인, 파일 수 도출\n",
    "total_rows = con.sql(f\"SELECT COUNT(*) FROM {table_name}\").fetchone()[0]  # type: ignore\n",
    "num_parts = (total_rows + MAX_ROWS - 1) // MAX_ROWS\n",
    "\n",
    "for i in range(num_parts):\n",
    "    offset = i * MAX_ROWS  # starts with 0\n",
    "    output_file = output_to / f\"{output_prefix}_{i + 1}.xlsx\"  # starts with 1\n",
    "\n",
    "    con.sql(f\"\"\"\n",
    "        COPY (\n",
    "            SELECT * FROM {table_name}\n",
    "            LIMIT {MAX_ROWS} OFFSET {offset}\n",
    "        ) TO '{output_file}'\n",
    "        WITH (\n",
    "            FORMAT xlsx,\n",
    "            HEADER true,\n",
    "            SHEET 'data'\n",
    "        )\n",
    "    \"\"\")\n",
    "    print(f\"Saved {output_file}\")"
   ]
  },
  {
   "cell_type": "markdown",
   "id": "7103a106",
   "metadata": {},
   "source": [
    "### parquet 파일 저장"
   ]
  },
  {
   "cell_type": "code",
   "execution_count": 38,
   "id": "3188aebd",
   "metadata": {},
   "outputs": [
    {
     "name": "stdout",
     "output_type": "stream",
     "text": [
      "Saved C:\\Users\\USER\\Documents\\quacklytics\\data\\실거래가\\processed\\realtx.parquet\n"
     ]
    }
   ],
   "source": [
    "output_file = output_to / \"realtx.parquet\"\n",
    "con.sql(f\"\"\"\n",
    "    COPY (\n",
    "        SELECT * FROM {table_name}\n",
    "    )\n",
    "    TO '{output_file}'\n",
    "    WITH (FORMAT PARQUET);\n",
    "\"\"\")\n",
    "print(f\"Saved {output_file}\")"
   ]
  }
 ],
 "metadata": {
  "kernelspec": {
   "display_name": ".venv",
   "language": "python",
   "name": "python3"
  },
  "language_info": {
   "codemirror_mode": {
    "name": "ipython",
    "version": 3
   },
   "file_extension": ".py",
   "mimetype": "text/x-python",
   "name": "python",
   "nbconvert_exporter": "python",
   "pygments_lexer": "ipython3",
   "version": "3.13.3"
  }
 },
 "nbformat": 4,
 "nbformat_minor": 5
}
